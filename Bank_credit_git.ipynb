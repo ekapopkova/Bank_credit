{
 "cells": [
  {
   "cell_type": "markdown",
   "id": "7f107193",
   "metadata": {
    "deletable": false,
    "editable": false,
    "id": "c81daeeb"
   },
   "source": [
    "# Исследование надежности заемщиков\n"
   ]
  },
  {
   "cell_type": "markdown",
   "id": "6ecbd665",
   "metadata": {
    "deletable": false,
    "editable": false,
    "id": "827c20bf"
   },
   "source": [
    "Во второй части проекта вы выполните шаги 3 и 4. Их вручную проверит ревьюер.\n",
    "Чтобы вам не пришлось писать код заново для шагов 1 и 2, мы добавили авторские решения в ячейки с кодом. \n",
    "\n"
   ]
  },
  {
   "cell_type": "markdown",
   "id": "388627ed",
   "metadata": {},
   "source": [
    "# Исследование надежности заемщиков\n",
    "\n",
    "Описание проекта\n",
    "\n",
    "Заказчик — кредитный отдел банка. Нужно разобраться, влияет ли семейное положение и количество детей клиента на факт погашения кредита в срок. Входные данные от банка — статистика о платёжеспособности клиентов.\n",
    "Результаты исследования будут учтены при построении модели кредитного скоринга — специальной системы, которая оценивает способность потенциального заёмщика вернуть кредит банку.\n",
    "\n",
    "Описание данных\n",
    "\n",
    "children — количество детей в семье\n",
    "days_employed — общий трудовой стаж в днях\n",
    "dob_years — возраст клиента в годах\n",
    "education — уровень образования клиента\n",
    "education_id — идентификатор уровня образования\n",
    "family_status — семейное положение\n",
    "family_status_id — идентификатор семейного положения\n",
    "gender — пол клиента\n",
    "income_type — тип занятости\n",
    "debt — имел ли задолженность по возврату кредитов\n",
    "total_income — ежемесячный доход\n",
    "purpose — цель получения кредита"
   ]
  },
  {
   "cell_type": "markdown",
   "id": "9099097c",
   "metadata": {
    "deletable": false,
    "editable": false,
    "id": "744d7639"
   },
   "source": [
    "## Откройте таблицу и изучите общую информацию о данных"
   ]
  },
  {
   "cell_type": "markdown",
   "id": "cdc68b9f",
   "metadata": {
    "deletable": false,
    "editable": false,
    "id": "e7a14c31"
   },
   "source": [
    "**Задание 1. Импортируйте библиотеку pandas. Считайте данные из csv-файла в датафрейм и сохраните в переменную `data`. Путь к файлу:**\n",
    "\n",
    "`/datasets/data.csv`"
   ]
  },
  {
   "cell_type": "code",
   "execution_count": 1,
   "id": "01c675f2",
   "metadata": {
    "deletable": false,
    "id": "7bcf75c9"
   },
   "outputs": [],
   "source": [
    "import pandas as pd\n",
    "\n",
    "try:\n",
    "    data = pd.read_csv('D:\\Мои Документы\\Desktop\\Материалы по учебе\\Предобработка данных\\data.csv')\n",
    "except:\n",
    "    data = pd.read_csv('https://code.s3.yandex.net/datasets/data.csv')"
   ]
  },
  {
   "cell_type": "markdown",
   "id": "828aca22",
   "metadata": {
    "deletable": false,
    "editable": false,
    "id": "b8038fe3"
   },
   "source": [
    "**Задание 2. Выведите первые 20 строчек датафрейма `data` на экран.**"
   ]
  },
  {
   "cell_type": "code",
   "execution_count": 2,
   "id": "91378f72",
   "metadata": {
    "deletable": false,
    "id": "2a7cab99",
    "outputId": "1a8f3ef2-d323-4ec2-ddf7-89670b5944c4"
   },
   "outputs": [
    {
     "data": {
      "text/html": [
       "<div>\n",
       "<style scoped>\n",
       "    .dataframe tbody tr th:only-of-type {\n",
       "        vertical-align: middle;\n",
       "    }\n",
       "\n",
       "    .dataframe tbody tr th {\n",
       "        vertical-align: top;\n",
       "    }\n",
       "\n",
       "    .dataframe thead th {\n",
       "        text-align: right;\n",
       "    }\n",
       "</style>\n",
       "<table border=\"1\" class=\"dataframe\">\n",
       "  <thead>\n",
       "    <tr style=\"text-align: right;\">\n",
       "      <th></th>\n",
       "      <th>children</th>\n",
       "      <th>days_employed</th>\n",
       "      <th>dob_years</th>\n",
       "      <th>education</th>\n",
       "      <th>education_id</th>\n",
       "      <th>family_status</th>\n",
       "      <th>family_status_id</th>\n",
       "      <th>gender</th>\n",
       "      <th>income_type</th>\n",
       "      <th>debt</th>\n",
       "      <th>total_income</th>\n",
       "      <th>purpose</th>\n",
       "    </tr>\n",
       "  </thead>\n",
       "  <tbody>\n",
       "    <tr>\n",
       "      <th>0</th>\n",
       "      <td>1</td>\n",
       "      <td>-8437.673028</td>\n",
       "      <td>42</td>\n",
       "      <td>высшее</td>\n",
       "      <td>0</td>\n",
       "      <td>женат / замужем</td>\n",
       "      <td>0</td>\n",
       "      <td>F</td>\n",
       "      <td>сотрудник</td>\n",
       "      <td>0</td>\n",
       "      <td>253875.639453</td>\n",
       "      <td>покупка жилья</td>\n",
       "    </tr>\n",
       "    <tr>\n",
       "      <th>1</th>\n",
       "      <td>1</td>\n",
       "      <td>-4024.803754</td>\n",
       "      <td>36</td>\n",
       "      <td>среднее</td>\n",
       "      <td>1</td>\n",
       "      <td>женат / замужем</td>\n",
       "      <td>0</td>\n",
       "      <td>F</td>\n",
       "      <td>сотрудник</td>\n",
       "      <td>0</td>\n",
       "      <td>112080.014102</td>\n",
       "      <td>приобретение автомобиля</td>\n",
       "    </tr>\n",
       "    <tr>\n",
       "      <th>2</th>\n",
       "      <td>0</td>\n",
       "      <td>-5623.422610</td>\n",
       "      <td>33</td>\n",
       "      <td>Среднее</td>\n",
       "      <td>1</td>\n",
       "      <td>женат / замужем</td>\n",
       "      <td>0</td>\n",
       "      <td>M</td>\n",
       "      <td>сотрудник</td>\n",
       "      <td>0</td>\n",
       "      <td>145885.952297</td>\n",
       "      <td>покупка жилья</td>\n",
       "    </tr>\n",
       "    <tr>\n",
       "      <th>3</th>\n",
       "      <td>3</td>\n",
       "      <td>-4124.747207</td>\n",
       "      <td>32</td>\n",
       "      <td>среднее</td>\n",
       "      <td>1</td>\n",
       "      <td>женат / замужем</td>\n",
       "      <td>0</td>\n",
       "      <td>M</td>\n",
       "      <td>сотрудник</td>\n",
       "      <td>0</td>\n",
       "      <td>267628.550329</td>\n",
       "      <td>дополнительное образование</td>\n",
       "    </tr>\n",
       "    <tr>\n",
       "      <th>4</th>\n",
       "      <td>0</td>\n",
       "      <td>340266.072047</td>\n",
       "      <td>53</td>\n",
       "      <td>среднее</td>\n",
       "      <td>1</td>\n",
       "      <td>гражданский брак</td>\n",
       "      <td>1</td>\n",
       "      <td>F</td>\n",
       "      <td>пенсионер</td>\n",
       "      <td>0</td>\n",
       "      <td>158616.077870</td>\n",
       "      <td>сыграть свадьбу</td>\n",
       "    </tr>\n",
       "    <tr>\n",
       "      <th>5</th>\n",
       "      <td>0</td>\n",
       "      <td>-926.185831</td>\n",
       "      <td>27</td>\n",
       "      <td>высшее</td>\n",
       "      <td>0</td>\n",
       "      <td>гражданский брак</td>\n",
       "      <td>1</td>\n",
       "      <td>M</td>\n",
       "      <td>компаньон</td>\n",
       "      <td>0</td>\n",
       "      <td>255763.565419</td>\n",
       "      <td>покупка жилья</td>\n",
       "    </tr>\n",
       "    <tr>\n",
       "      <th>6</th>\n",
       "      <td>0</td>\n",
       "      <td>-2879.202052</td>\n",
       "      <td>43</td>\n",
       "      <td>высшее</td>\n",
       "      <td>0</td>\n",
       "      <td>женат / замужем</td>\n",
       "      <td>0</td>\n",
       "      <td>F</td>\n",
       "      <td>компаньон</td>\n",
       "      <td>0</td>\n",
       "      <td>240525.971920</td>\n",
       "      <td>операции с жильем</td>\n",
       "    </tr>\n",
       "    <tr>\n",
       "      <th>7</th>\n",
       "      <td>0</td>\n",
       "      <td>-152.779569</td>\n",
       "      <td>50</td>\n",
       "      <td>СРЕДНЕЕ</td>\n",
       "      <td>1</td>\n",
       "      <td>женат / замужем</td>\n",
       "      <td>0</td>\n",
       "      <td>M</td>\n",
       "      <td>сотрудник</td>\n",
       "      <td>0</td>\n",
       "      <td>135823.934197</td>\n",
       "      <td>образование</td>\n",
       "    </tr>\n",
       "    <tr>\n",
       "      <th>8</th>\n",
       "      <td>2</td>\n",
       "      <td>-6929.865299</td>\n",
       "      <td>35</td>\n",
       "      <td>ВЫСШЕЕ</td>\n",
       "      <td>0</td>\n",
       "      <td>гражданский брак</td>\n",
       "      <td>1</td>\n",
       "      <td>F</td>\n",
       "      <td>сотрудник</td>\n",
       "      <td>0</td>\n",
       "      <td>95856.832424</td>\n",
       "      <td>на проведение свадьбы</td>\n",
       "    </tr>\n",
       "    <tr>\n",
       "      <th>9</th>\n",
       "      <td>0</td>\n",
       "      <td>-2188.756445</td>\n",
       "      <td>41</td>\n",
       "      <td>среднее</td>\n",
       "      <td>1</td>\n",
       "      <td>женат / замужем</td>\n",
       "      <td>0</td>\n",
       "      <td>M</td>\n",
       "      <td>сотрудник</td>\n",
       "      <td>0</td>\n",
       "      <td>144425.938277</td>\n",
       "      <td>покупка жилья для семьи</td>\n",
       "    </tr>\n",
       "    <tr>\n",
       "      <th>10</th>\n",
       "      <td>2</td>\n",
       "      <td>-4171.483647</td>\n",
       "      <td>36</td>\n",
       "      <td>высшее</td>\n",
       "      <td>0</td>\n",
       "      <td>женат / замужем</td>\n",
       "      <td>0</td>\n",
       "      <td>M</td>\n",
       "      <td>компаньон</td>\n",
       "      <td>0</td>\n",
       "      <td>113943.491460</td>\n",
       "      <td>покупка недвижимости</td>\n",
       "    </tr>\n",
       "    <tr>\n",
       "      <th>11</th>\n",
       "      <td>0</td>\n",
       "      <td>-792.701887</td>\n",
       "      <td>40</td>\n",
       "      <td>среднее</td>\n",
       "      <td>1</td>\n",
       "      <td>женат / замужем</td>\n",
       "      <td>0</td>\n",
       "      <td>F</td>\n",
       "      <td>сотрудник</td>\n",
       "      <td>0</td>\n",
       "      <td>77069.234271</td>\n",
       "      <td>покупка коммерческой недвижимости</td>\n",
       "    </tr>\n",
       "    <tr>\n",
       "      <th>12</th>\n",
       "      <td>0</td>\n",
       "      <td>NaN</td>\n",
       "      <td>65</td>\n",
       "      <td>среднее</td>\n",
       "      <td>1</td>\n",
       "      <td>гражданский брак</td>\n",
       "      <td>1</td>\n",
       "      <td>M</td>\n",
       "      <td>пенсионер</td>\n",
       "      <td>0</td>\n",
       "      <td>NaN</td>\n",
       "      <td>сыграть свадьбу</td>\n",
       "    </tr>\n",
       "    <tr>\n",
       "      <th>13</th>\n",
       "      <td>0</td>\n",
       "      <td>-1846.641941</td>\n",
       "      <td>54</td>\n",
       "      <td>неоконченное высшее</td>\n",
       "      <td>2</td>\n",
       "      <td>женат / замужем</td>\n",
       "      <td>0</td>\n",
       "      <td>F</td>\n",
       "      <td>сотрудник</td>\n",
       "      <td>0</td>\n",
       "      <td>130458.228857</td>\n",
       "      <td>приобретение автомобиля</td>\n",
       "    </tr>\n",
       "    <tr>\n",
       "      <th>14</th>\n",
       "      <td>0</td>\n",
       "      <td>-1844.956182</td>\n",
       "      <td>56</td>\n",
       "      <td>высшее</td>\n",
       "      <td>0</td>\n",
       "      <td>гражданский брак</td>\n",
       "      <td>1</td>\n",
       "      <td>F</td>\n",
       "      <td>компаньон</td>\n",
       "      <td>1</td>\n",
       "      <td>165127.911772</td>\n",
       "      <td>покупка жилой недвижимости</td>\n",
       "    </tr>\n",
       "    <tr>\n",
       "      <th>15</th>\n",
       "      <td>1</td>\n",
       "      <td>-972.364419</td>\n",
       "      <td>26</td>\n",
       "      <td>среднее</td>\n",
       "      <td>1</td>\n",
       "      <td>женат / замужем</td>\n",
       "      <td>0</td>\n",
       "      <td>F</td>\n",
       "      <td>сотрудник</td>\n",
       "      <td>0</td>\n",
       "      <td>116820.904450</td>\n",
       "      <td>строительство собственной недвижимости</td>\n",
       "    </tr>\n",
       "    <tr>\n",
       "      <th>16</th>\n",
       "      <td>0</td>\n",
       "      <td>-1719.934226</td>\n",
       "      <td>35</td>\n",
       "      <td>среднее</td>\n",
       "      <td>1</td>\n",
       "      <td>женат / замужем</td>\n",
       "      <td>0</td>\n",
       "      <td>F</td>\n",
       "      <td>сотрудник</td>\n",
       "      <td>0</td>\n",
       "      <td>289202.704229</td>\n",
       "      <td>недвижимость</td>\n",
       "    </tr>\n",
       "    <tr>\n",
       "      <th>17</th>\n",
       "      <td>0</td>\n",
       "      <td>-2369.999720</td>\n",
       "      <td>33</td>\n",
       "      <td>высшее</td>\n",
       "      <td>0</td>\n",
       "      <td>гражданский брак</td>\n",
       "      <td>1</td>\n",
       "      <td>M</td>\n",
       "      <td>сотрудник</td>\n",
       "      <td>0</td>\n",
       "      <td>90410.586745</td>\n",
       "      <td>строительство недвижимости</td>\n",
       "    </tr>\n",
       "    <tr>\n",
       "      <th>18</th>\n",
       "      <td>0</td>\n",
       "      <td>400281.136913</td>\n",
       "      <td>53</td>\n",
       "      <td>среднее</td>\n",
       "      <td>1</td>\n",
       "      <td>вдовец / вдова</td>\n",
       "      <td>2</td>\n",
       "      <td>F</td>\n",
       "      <td>пенсионер</td>\n",
       "      <td>0</td>\n",
       "      <td>56823.777243</td>\n",
       "      <td>на покупку подержанного автомобиля</td>\n",
       "    </tr>\n",
       "    <tr>\n",
       "      <th>19</th>\n",
       "      <td>0</td>\n",
       "      <td>-10038.818549</td>\n",
       "      <td>48</td>\n",
       "      <td>СРЕДНЕЕ</td>\n",
       "      <td>1</td>\n",
       "      <td>в разводе</td>\n",
       "      <td>3</td>\n",
       "      <td>F</td>\n",
       "      <td>сотрудник</td>\n",
       "      <td>0</td>\n",
       "      <td>242831.107982</td>\n",
       "      <td>на покупку своего автомобиля</td>\n",
       "    </tr>\n",
       "  </tbody>\n",
       "</table>\n",
       "</div>"
      ],
      "text/plain": [
       "    children  days_employed  dob_years            education  education_id  \\\n",
       "0          1   -8437.673028         42               высшее             0   \n",
       "1          1   -4024.803754         36              среднее             1   \n",
       "2          0   -5623.422610         33              Среднее             1   \n",
       "3          3   -4124.747207         32              среднее             1   \n",
       "4          0  340266.072047         53              среднее             1   \n",
       "5          0    -926.185831         27               высшее             0   \n",
       "6          0   -2879.202052         43               высшее             0   \n",
       "7          0    -152.779569         50              СРЕДНЕЕ             1   \n",
       "8          2   -6929.865299         35               ВЫСШЕЕ             0   \n",
       "9          0   -2188.756445         41              среднее             1   \n",
       "10         2   -4171.483647         36               высшее             0   \n",
       "11         0    -792.701887         40              среднее             1   \n",
       "12         0            NaN         65              среднее             1   \n",
       "13         0   -1846.641941         54  неоконченное высшее             2   \n",
       "14         0   -1844.956182         56               высшее             0   \n",
       "15         1    -972.364419         26              среднее             1   \n",
       "16         0   -1719.934226         35              среднее             1   \n",
       "17         0   -2369.999720         33               высшее             0   \n",
       "18         0  400281.136913         53              среднее             1   \n",
       "19         0  -10038.818549         48              СРЕДНЕЕ             1   \n",
       "\n",
       "       family_status  family_status_id gender income_type  debt  \\\n",
       "0    женат / замужем                 0      F   сотрудник     0   \n",
       "1    женат / замужем                 0      F   сотрудник     0   \n",
       "2    женат / замужем                 0      M   сотрудник     0   \n",
       "3    женат / замужем                 0      M   сотрудник     0   \n",
       "4   гражданский брак                 1      F   пенсионер     0   \n",
       "5   гражданский брак                 1      M   компаньон     0   \n",
       "6    женат / замужем                 0      F   компаньон     0   \n",
       "7    женат / замужем                 0      M   сотрудник     0   \n",
       "8   гражданский брак                 1      F   сотрудник     0   \n",
       "9    женат / замужем                 0      M   сотрудник     0   \n",
       "10   женат / замужем                 0      M   компаньон     0   \n",
       "11   женат / замужем                 0      F   сотрудник     0   \n",
       "12  гражданский брак                 1      M   пенсионер     0   \n",
       "13   женат / замужем                 0      F   сотрудник     0   \n",
       "14  гражданский брак                 1      F   компаньон     1   \n",
       "15   женат / замужем                 0      F   сотрудник     0   \n",
       "16   женат / замужем                 0      F   сотрудник     0   \n",
       "17  гражданский брак                 1      M   сотрудник     0   \n",
       "18    вдовец / вдова                 2      F   пенсионер     0   \n",
       "19         в разводе                 3      F   сотрудник     0   \n",
       "\n",
       "     total_income                                 purpose  \n",
       "0   253875.639453                           покупка жилья  \n",
       "1   112080.014102                 приобретение автомобиля  \n",
       "2   145885.952297                           покупка жилья  \n",
       "3   267628.550329              дополнительное образование  \n",
       "4   158616.077870                         сыграть свадьбу  \n",
       "5   255763.565419                           покупка жилья  \n",
       "6   240525.971920                       операции с жильем  \n",
       "7   135823.934197                             образование  \n",
       "8    95856.832424                   на проведение свадьбы  \n",
       "9   144425.938277                 покупка жилья для семьи  \n",
       "10  113943.491460                    покупка недвижимости  \n",
       "11   77069.234271       покупка коммерческой недвижимости  \n",
       "12            NaN                         сыграть свадьбу  \n",
       "13  130458.228857                 приобретение автомобиля  \n",
       "14  165127.911772              покупка жилой недвижимости  \n",
       "15  116820.904450  строительство собственной недвижимости  \n",
       "16  289202.704229                            недвижимость  \n",
       "17   90410.586745              строительство недвижимости  \n",
       "18   56823.777243      на покупку подержанного автомобиля  \n",
       "19  242831.107982            на покупку своего автомобиля  "
      ]
     },
     "execution_count": 2,
     "metadata": {},
     "output_type": "execute_result"
    }
   ],
   "source": [
    "data.head(20)"
   ]
  },
  {
   "cell_type": "markdown",
   "id": "bd0b8ed8",
   "metadata": {
    "deletable": false,
    "editable": false,
    "id": "1c12e233"
   },
   "source": [
    "**Задание 3. Выведите основную информацию о датафрейме с помощью метода `info()`.**"
   ]
  },
  {
   "cell_type": "code",
   "execution_count": 3,
   "id": "dd2dc20e",
   "metadata": {
    "deletable": false,
    "id": "2b757bca",
    "outputId": "15376089-8dad-46c9-b520-c05248d43158"
   },
   "outputs": [
    {
     "name": "stdout",
     "output_type": "stream",
     "text": [
      "<class 'pandas.core.frame.DataFrame'>\n",
      "RangeIndex: 21525 entries, 0 to 21524\n",
      "Data columns (total 12 columns):\n",
      " #   Column            Non-Null Count  Dtype  \n",
      "---  ------            --------------  -----  \n",
      " 0   children          21525 non-null  int64  \n",
      " 1   days_employed     19351 non-null  float64\n",
      " 2   dob_years         21525 non-null  int64  \n",
      " 3   education         21525 non-null  object \n",
      " 4   education_id      21525 non-null  int64  \n",
      " 5   family_status     21525 non-null  object \n",
      " 6   family_status_id  21525 non-null  int64  \n",
      " 7   gender            21525 non-null  object \n",
      " 8   income_type       21525 non-null  object \n",
      " 9   debt              21525 non-null  int64  \n",
      " 10  total_income      19351 non-null  float64\n",
      " 11  purpose           21525 non-null  object \n",
      "dtypes: float64(2), int64(5), object(5)\n",
      "memory usage: 2.0+ MB\n"
     ]
    }
   ],
   "source": [
    "data.info()"
   ]
  },
  {
   "cell_type": "markdown",
   "id": "9aa6c150",
   "metadata": {
    "deletable": false,
    "editable": false,
    "id": "333ec665"
   },
   "source": [
    "## Предобработка данных"
   ]
  },
  {
   "cell_type": "markdown",
   "id": "23f20ce6",
   "metadata": {
    "deletable": false,
    "editable": false,
    "id": "02d92d53"
   },
   "source": [
    "### Удаление пропусков"
   ]
  },
  {
   "cell_type": "markdown",
   "id": "36e45081",
   "metadata": {
    "deletable": false,
    "editable": false,
    "id": "cd84967c"
   },
   "source": [
    "**Задание 4. Выведите количество пропущенных значений для каждого столбца. Используйте комбинацию двух методов.**"
   ]
  },
  {
   "cell_type": "code",
   "execution_count": 4,
   "id": "fb8f63a0",
   "metadata": {
    "deletable": false,
    "id": "7f9b2309",
    "outputId": "81f4d817-781c-465c-ed15-91ce4446810d"
   },
   "outputs": [
    {
     "data": {
      "text/plain": [
       "children               0\n",
       "days_employed       2174\n",
       "dob_years              0\n",
       "education              0\n",
       "education_id           0\n",
       "family_status          0\n",
       "family_status_id       0\n",
       "gender                 0\n",
       "income_type            0\n",
       "debt                   0\n",
       "total_income        2174\n",
       "purpose                0\n",
       "dtype: int64"
      ]
     },
     "execution_count": 4,
     "metadata": {},
     "output_type": "execute_result"
    }
   ],
   "source": [
    "data.isna().sum()"
   ]
  },
  {
   "cell_type": "markdown",
   "id": "244703bb",
   "metadata": {
    "deletable": false,
    "editable": false,
    "id": "db86e27b"
   },
   "source": [
    "**Задание 5. В двух столбцах есть пропущенные значения. Один из них — `days_employed`. Пропуски в этом столбце вы обработаете на следующем этапе. Другой столбец с пропущенными значениями — `total_income` — хранит данные о доходах. На сумму дохода сильнее всего влияет тип занятости, поэтому заполнить пропуски в этом столбце нужно медианным значением по каждому типу из столбца `income_type`. Например, у человека с типом занятости `сотрудник` пропуск в столбце `total_income` должен быть заполнен медианным доходом среди всех записей с тем же типом.**"
   ]
  },
  {
   "cell_type": "code",
   "execution_count": 5,
   "id": "512ff600",
   "metadata": {
    "deletable": false,
    "id": "42006a93"
   },
   "outputs": [],
   "source": [
    "for t in data['income_type'].unique():\n",
    "    data.loc[(data['income_type'] == t) & (data['total_income'].isna()), 'total_income'] = \\\n",
    "    data.loc[(data['income_type'] == t), 'total_income'].median()"
   ]
  },
  {
   "cell_type": "markdown",
   "id": "dc9a98bc",
   "metadata": {
    "deletable": false,
    "editable": false,
    "id": "89da5ece"
   },
   "source": [
    "### Обработка аномальных значений"
   ]
  },
  {
   "cell_type": "markdown",
   "id": "1bfc3b61",
   "metadata": {
    "deletable": false,
    "editable": false,
    "id": "57964554"
   },
   "source": [
    "**Задание 6. В данных могут встречаться артефакты (аномалии) — значения, которые не отражают действительность и появились по какой-то ошибке. таким артефактом будет отрицательное количество дней трудового стажа в столбце `days_employed`. Для реальных данных это нормально. Обработайте значения в этом столбце: замените все отрицательные значения положительными с помощью метода `abs()`.**"
   ]
  },
  {
   "cell_type": "code",
   "execution_count": 6,
   "id": "30fa6fa8",
   "metadata": {
    "deletable": false,
    "id": "f6f055bf"
   },
   "outputs": [],
   "source": [
    "data['days_employed'] = data['days_employed'].abs()"
   ]
  },
  {
   "cell_type": "markdown",
   "id": "2fd0cdc8",
   "metadata": {
    "deletable": false,
    "editable": false,
    "id": "6107dd2f"
   },
   "source": [
    "**Задание 7. Для каждого типа занятости выведите медианное значение трудового стажа `days_employed` в днях.**"
   ]
  },
  {
   "cell_type": "code",
   "execution_count": 7,
   "id": "28357244",
   "metadata": {
    "deletable": false,
    "id": "85a5faf6",
    "outputId": "801ef80e-522b-4668-f34e-565af7432bcf"
   },
   "outputs": [
    {
     "data": {
      "text/plain": [
       "income_type\n",
       "безработный        366413.652744\n",
       "в декрете            3296.759962\n",
       "госслужащий          2689.368353\n",
       "компаньон            1547.382223\n",
       "пенсионер          365213.306266\n",
       "предприниматель       520.848083\n",
       "сотрудник            1574.202821\n",
       "студент               578.751554\n",
       "Name: days_employed, dtype: float64"
      ]
     },
     "execution_count": 7,
     "metadata": {},
     "output_type": "execute_result"
    }
   ],
   "source": [
    "data.groupby('income_type')['days_employed'].agg('median')"
   ]
  },
  {
   "cell_type": "markdown",
   "id": "6b3b7f89",
   "metadata": {
    "deletable": false,
    "editable": false,
    "id": "38d1a030"
   },
   "source": [
    "У двух типов (безработные и пенсионеры) получатся аномально большие значения. Исправить такие значения сложно, поэтому оставьте их как есть. Тем более этот столбец не понадобится вам для исследования."
   ]
  },
  {
   "cell_type": "markdown",
   "id": "dae2ca95",
   "metadata": {
    "deletable": false,
    "editable": false,
    "id": "d8a9f147"
   },
   "source": [
    "**Задание 8. Выведите перечень уникальных значений столбца `children`.**"
   ]
  },
  {
   "cell_type": "code",
   "execution_count": 8,
   "id": "4ab5ae74",
   "metadata": {
    "deletable": false,
    "id": "ef5056eb",
    "outputId": "6975b15c-7f95-4697-d16d-a0c79b657b03"
   },
   "outputs": [
    {
     "data": {
      "text/plain": [
       "array([ 1,  0,  3,  2, -1,  4, 20,  5], dtype=int64)"
      ]
     },
     "execution_count": 8,
     "metadata": {},
     "output_type": "execute_result"
    }
   ],
   "source": [
    "data['children'].unique()"
   ]
  },
  {
   "cell_type": "markdown",
   "id": "e7e87169",
   "metadata": {
    "deletable": false,
    "editable": false,
    "id": "40b9ebf2"
   },
   "source": [
    "**Задание 9. В столбце `children` есть два аномальных значения. Удалите строки, в которых встречаются такие аномальные значения из датафрейма `data`.**"
   ]
  },
  {
   "cell_type": "code",
   "execution_count": 9,
   "id": "a43d5f98",
   "metadata": {
    "deletable": false,
    "id": "3ff9801d"
   },
   "outputs": [],
   "source": [
    "data = data[(data['children'] != -1) & (data['children'] != 20)]"
   ]
  },
  {
   "cell_type": "markdown",
   "id": "05445f88",
   "metadata": {
    "deletable": false,
    "editable": false,
    "id": "bbc4d0ce"
   },
   "source": [
    "**Задание 10. Ещё раз выведите перечень уникальных значений столбца `children`, чтобы убедиться, что артефакты удалены.**"
   ]
  },
  {
   "cell_type": "code",
   "execution_count": 10,
   "id": "befb5567",
   "metadata": {
    "deletable": false,
    "id": "ad4fa8b7",
    "outputId": "b2097101-d49d-44d9-901b-32a65c9463d1"
   },
   "outputs": [
    {
     "data": {
      "text/plain": [
       "array([1, 0, 3, 2, 4, 5], dtype=int64)"
      ]
     },
     "execution_count": 10,
     "metadata": {},
     "output_type": "execute_result"
    }
   ],
   "source": [
    "data['children'].unique()"
   ]
  },
  {
   "cell_type": "markdown",
   "id": "63ab20d1",
   "metadata": {
    "deletable": false,
    "editable": false,
    "id": "75440b63"
   },
   "source": [
    "### Удаление пропусков (продолжение)"
   ]
  },
  {
   "cell_type": "markdown",
   "id": "a91943ac",
   "metadata": {
    "deletable": false,
    "editable": false,
    "id": "f4ea573f"
   },
   "source": [
    "**Задание 11. Заполните пропуски в столбце `days_employed` медианными значениями по каждого типа занятости `income_type`.**"
   ]
  },
  {
   "cell_type": "code",
   "execution_count": 11,
   "id": "bb1d02f3",
   "metadata": {
    "deletable": false,
    "id": "af6b1a7e"
   },
   "outputs": [],
   "source": [
    "for t in data['income_type'].unique():\n",
    "    data.loc[(data['income_type'] == t) & (data['days_employed'].isna()), 'days_employed'] = \\\n",
    "    data.loc[(data['income_type'] == t), 'days_employed'].median()"
   ]
  },
  {
   "cell_type": "markdown",
   "id": "82507dbf",
   "metadata": {
    "deletable": false,
    "editable": false,
    "id": "2753f40d"
   },
   "source": [
    "**Задание 12. Убедитесь, что все пропуски заполнены. Проверьте себя и ещё раз выведите количество пропущенных значений для каждого столбца с помощью двух методов.**"
   ]
  },
  {
   "cell_type": "code",
   "execution_count": 12,
   "id": "4eccc337",
   "metadata": {
    "deletable": false,
    "id": "55f78bc2",
    "outputId": "8da1e4e1-358e-4e87-98c9-f261bce0a7b2"
   },
   "outputs": [
    {
     "data": {
      "text/plain": [
       "children            0\n",
       "days_employed       0\n",
       "dob_years           0\n",
       "education           0\n",
       "education_id        0\n",
       "family_status       0\n",
       "family_status_id    0\n",
       "gender              0\n",
       "income_type         0\n",
       "debt                0\n",
       "total_income        0\n",
       "purpose             0\n",
       "dtype: int64"
      ]
     },
     "execution_count": 12,
     "metadata": {},
     "output_type": "execute_result"
    }
   ],
   "source": [
    "data.isna().sum()"
   ]
  },
  {
   "cell_type": "markdown",
   "id": "ed6e17ee",
   "metadata": {
    "deletable": false,
    "editable": false,
    "id": "ddc81e43"
   },
   "source": [
    "### Изменение типов данных"
   ]
  },
  {
   "cell_type": "markdown",
   "id": "8370a859",
   "metadata": {
    "deletable": false,
    "editable": false,
    "id": "42d19d24"
   },
   "source": [
    "**Задание 13. Замените вещественный тип данных в столбце `total_income` на целочисленный с помощью метода `astype()`.**"
   ]
  },
  {
   "cell_type": "code",
   "execution_count": 13,
   "id": "afc95c14",
   "metadata": {
    "deletable": false,
    "id": "920b65ad"
   },
   "outputs": [],
   "source": [
    "data['total_income'] = data['total_income'].astype(int)"
   ]
  },
  {
   "cell_type": "markdown",
   "id": "c853c85c",
   "metadata": {
    "deletable": false,
    "editable": false,
    "id": "80c420ba"
   },
   "source": [
    "### Обработка дубликатов"
   ]
  },
  {
   "cell_type": "markdown",
   "id": "0ff34451",
   "metadata": {
    "deletable": false,
    "editable": false
   },
   "source": [
    "**Задание 14. Обработайте неявные дубликаты в столбце `education`. В этом столбце есть одни и те же значения, но записанные по-разному: с использованием заглавных и строчных букв. Приведите их к нижнему регистру. Проверьте остальные столбцы.**"
   ]
  },
  {
   "cell_type": "code",
   "execution_count": 14,
   "id": "fc99fc4e",
   "metadata": {
    "deletable": false
   },
   "outputs": [],
   "source": [
    "data['education'] = data['education'].str.lower()"
   ]
  },
  {
   "cell_type": "markdown",
   "id": "9f20bc85",
   "metadata": {
    "deletable": false,
    "editable": false,
    "id": "dc587695"
   },
   "source": [
    "**Задание 15. Выведите на экран количество строк-дубликатов в данных. Если такие строки присутствуют, удалите их.**"
   ]
  },
  {
   "cell_type": "code",
   "execution_count": 15,
   "id": "38f4b55e",
   "metadata": {
    "deletable": false,
    "id": "3ee445e4",
    "outputId": "9684deba-1934-42d1-99e1-cda61740f822"
   },
   "outputs": [
    {
     "data": {
      "text/plain": [
       "71"
      ]
     },
     "execution_count": 15,
     "metadata": {},
     "output_type": "execute_result"
    }
   ],
   "source": [
    "data.duplicated().sum()"
   ]
  },
  {
   "cell_type": "code",
   "execution_count": 16,
   "id": "123fdabe",
   "metadata": {
    "deletable": false,
    "id": "8575fe05"
   },
   "outputs": [],
   "source": [
    "data = data.drop_duplicates()"
   ]
  },
  {
   "cell_type": "markdown",
   "id": "c39ebec9",
   "metadata": {
    "deletable": false,
    "editable": false,
    "id": "9904cf55"
   },
   "source": [
    "### Категоризация данных"
   ]
  },
  {
   "cell_type": "markdown",
   "id": "e0d5bf95",
   "metadata": {
    "deletable": false,
    "editable": false,
    "id": "72fcc8a2"
   },
   "source": [
    "**Задание 16. На основании диапазонов, указанных ниже, создайте в датафрейме `data` столбец `total_income_category` с категориями:**\n",
    "\n",
    "- 0–30000 — `'E'`;\n",
    "- 30001–50000 — `'D'`;\n",
    "- 50001–200000 — `'C'`;\n",
    "- 200001–1000000 — `'B'`;\n",
    "- 1000001 и выше — `'A'`.\n",
    "\n",
    "\n",
    "**Например, кредитополучателю с доходом 25000 нужно назначить категорию `'E'`, а клиенту, получающему 235000, — `'B'`. Используйте собственную функцию с именем `categorize_income()` и метод `apply()`.**"
   ]
  },
  {
   "cell_type": "code",
   "execution_count": 17,
   "id": "5004a560",
   "metadata": {
    "deletable": false,
    "id": "e1771346"
   },
   "outputs": [],
   "source": [
    "def categorize_income(income):\n",
    "    try:\n",
    "        if 0 <= income <= 30000:\n",
    "            return 'E'\n",
    "        elif 30001 <= income <= 50000:\n",
    "            return 'D'\n",
    "        elif 50001 <= income <= 200000:\n",
    "            return 'C'\n",
    "        elif 200001 <= income <= 1000000:\n",
    "            return 'B'\n",
    "        elif income >= 1000001:\n",
    "            return 'A'\n",
    "    except:\n",
    "        pass"
   ]
  },
  {
   "cell_type": "code",
   "execution_count": 18,
   "id": "be5a313c",
   "metadata": {
    "deletable": false,
    "id": "d5f3586d"
   },
   "outputs": [],
   "source": [
    "data['total_income_category'] = data['total_income'].apply(categorize_income)"
   ]
  },
  {
   "cell_type": "markdown",
   "id": "ad15a1c4",
   "metadata": {
    "deletable": false,
    "editable": false,
    "id": "dde49b5c"
   },
   "source": [
    "**Задание 17. Выведите на экран перечень уникальных целей взятия кредита из столбца `purpose`.**"
   ]
  },
  {
   "cell_type": "code",
   "execution_count": 19,
   "id": "22970e75",
   "metadata": {
    "deletable": false,
    "id": "f67ce9b3",
    "outputId": "673c12d9-7d7e-4ae0-9812-c622c89dd244"
   },
   "outputs": [
    {
     "data": {
      "text/plain": [
       "array(['покупка жилья', 'приобретение автомобиля',\n",
       "       'дополнительное образование', 'сыграть свадьбу',\n",
       "       'операции с жильем', 'образование', 'на проведение свадьбы',\n",
       "       'покупка жилья для семьи', 'покупка недвижимости',\n",
       "       'покупка коммерческой недвижимости', 'покупка жилой недвижимости',\n",
       "       'строительство собственной недвижимости', 'недвижимость',\n",
       "       'строительство недвижимости', 'на покупку подержанного автомобиля',\n",
       "       'на покупку своего автомобиля',\n",
       "       'операции с коммерческой недвижимостью',\n",
       "       'строительство жилой недвижимости', 'жилье',\n",
       "       'операции со своей недвижимостью', 'автомобили',\n",
       "       'заняться образованием', 'сделка с подержанным автомобилем',\n",
       "       'получение образования', 'автомобиль', 'свадьба',\n",
       "       'получение дополнительного образования', 'покупка своего жилья',\n",
       "       'операции с недвижимостью', 'получение высшего образования',\n",
       "       'свой автомобиль', 'сделка с автомобилем',\n",
       "       'профильное образование', 'высшее образование',\n",
       "       'покупка жилья для сдачи', 'на покупку автомобиля', 'ремонт жилью',\n",
       "       'заняться высшим образованием'], dtype=object)"
      ]
     },
     "execution_count": 19,
     "metadata": {},
     "output_type": "execute_result"
    }
   ],
   "source": [
    "data['purpose'].unique()"
   ]
  },
  {
   "cell_type": "markdown",
   "id": "c2d37e7b",
   "metadata": {
    "deletable": false,
    "editable": false,
    "id": "85d0aef0"
   },
   "source": [
    "**Задание 18. Создайте функцию, которая на основании данных из столбца `purpose` сформирует новый столбец `purpose_category`, в который войдут следующие категории:**\n",
    "\n",
    "- `'операции с автомобилем'`,\n",
    "- `'операции с недвижимостью'`,\n",
    "- `'проведение свадьбы'`,\n",
    "- `'получение образования'`.\n",
    "\n",
    "**Например, если в столбце `purpose` находится подстрока `'на покупку автомобиля'`, то в столбце `purpose_category` должна появиться строка `'операции с автомобилем'`.**\n",
    "\n",
    "**Используйте собственную функцию с именем `categorize_purpose()` и метод `apply()`. Изучите данные в столбце `purpose` и определите, какие подстроки помогут вам правильно определить категорию.**"
   ]
  },
  {
   "cell_type": "code",
   "execution_count": 20,
   "id": "c17bc599",
   "metadata": {
    "deletable": false,
    "id": "e149fab4"
   },
   "outputs": [],
   "source": [
    "def categorize_purpose(row):\n",
    "    try:\n",
    "        if 'автом' in row:\n",
    "            return 'операции с автомобилем'\n",
    "        elif 'жил' in row or 'недвиж' in row:\n",
    "            return 'операции с недвижимостью'\n",
    "        elif 'свад' in row:\n",
    "            return 'проведение свадьбы'\n",
    "        elif 'образов' in row:\n",
    "            return 'получение образования'\n",
    "    except:\n",
    "        return 'нет категории'"
   ]
  },
  {
   "cell_type": "code",
   "execution_count": 21,
   "id": "5f31058b",
   "metadata": {
    "deletable": false,
    "id": "bf36e69b"
   },
   "outputs": [],
   "source": [
    "data['purpose_category'] = data['purpose'].apply(categorize_purpose)"
   ]
  },
  {
   "cell_type": "markdown",
   "id": "39a31e34",
   "metadata": {
    "deletable": false,
    "editable": false,
    "id": "09b242bf"
   },
   "source": [
    "### Шаг 3. Исследуйте данные и ответьте на вопросы"
   ]
  },
  {
   "cell_type": "markdown",
   "id": "71b2ced0",
   "metadata": {
    "deletable": false,
    "editable": false,
    "id": "c5d66278"
   },
   "source": [
    "#### 3.1 Есть ли зависимость между количеством детей и возвратом кредита в срок?"
   ]
  },
  {
   "cell_type": "markdown",
   "id": "a38af4b3",
   "metadata": {},
   "source": [
    "1. Считаем долю лиц, у которых есть задолжности по возврату кредитов, к общему числу заемщиков."
   ]
  },
  {
   "cell_type": "code",
   "execution_count": 22,
   "id": "b5bc052c",
   "metadata": {},
   "outputs": [
    {
     "name": "stdout",
     "output_type": "stream",
     "text": [
      "Доля лиц с задолжностями по кредитам 0.081\n"
     ]
    }
   ],
   "source": [
    "debt_sum = data.loc[data['debt']==1,'debt'].sum()\n",
    "total = data['debt'].count()\n",
    "debt_conversion = debt_sum/total\n",
    "print(f'Доля лиц с задолжностями по кредитам {debt_conversion:.3f}')"
   ]
  },
  {
   "cell_type": "markdown",
   "id": "e319974c",
   "metadata": {},
   "source": [
    "2. Теперь проведем исследования, есть ли зависисмость между количеством детей и долей лиц, у которых есть задолжности по возврату кредитов. Сначала оределяем, как часто встречаются уникальные значения в столбце children методом value_counts()."
   ]
  },
  {
   "cell_type": "code",
   "execution_count": 23,
   "id": "8161841c",
   "metadata": {
    "deletable": false,
    "id": "2cacfc4a"
   },
   "outputs": [
    {
     "name": "stdout",
     "output_type": "stream",
     "text": [
      "0    14091\n",
      "1     4808\n",
      "2     2052\n",
      "3      330\n",
      "4       41\n",
      "5        9\n",
      "Name: children, dtype: int64\n"
     ]
    }
   ],
   "source": [
    "print(data['children'].value_counts()) "
   ]
  },
  {
   "cell_type": "markdown",
   "id": "ad1e8680",
   "metadata": {},
   "source": [
    "3. Определяем, как часто встречаются уникальные занчения в столбце debt методом value_counts()."
   ]
  },
  {
   "cell_type": "code",
   "execution_count": 24,
   "id": "789d8ac4",
   "metadata": {},
   "outputs": [
    {
     "name": "stdout",
     "output_type": "stream",
     "text": [
      "0    19599\n",
      "1     1732\n",
      "Name: debt, dtype: int64\n"
     ]
    }
   ],
   "source": [
    "print(data['debt'].value_counts())"
   ]
  },
  {
   "cell_type": "markdown",
   "id": "ab3709b9",
   "metadata": {},
   "source": [
    "4. Группируем датафрейм по столбцу children и считаем уникальные значения в столбце debt, чтобы посмотреть количество возвратов в срок и наличия задолжностей по каждому варианту количества детей в столбце children. "
   ]
  },
  {
   "cell_type": "code",
   "execution_count": 25,
   "id": "8012af8c",
   "metadata": {
    "scrolled": true
   },
   "outputs": [
    {
     "name": "stdout",
     "output_type": "stream",
     "text": [
      "children  debt\n",
      "0         0       13028\n",
      "          1        1063\n",
      "1         0        4364\n",
      "          1         444\n",
      "2         0        1858\n",
      "          1         194\n",
      "3         0         303\n",
      "          1          27\n",
      "4         0          37\n",
      "          1           4\n",
      "5         0           9\n",
      "Name: debt, dtype: int64\n"
     ]
    }
   ],
   "source": [
    "print(data.groupby('children')['debt'].value_counts())"
   ]
  },
  {
   "cell_type": "markdown",
   "id": "f0109e2a",
   "metadata": {},
   "source": [
    "5. Вышеперечисленные действия (2-4) были нужны для ознакомления с данными. Теперь считаем конверсию (отношение количества лиц, у которых есть задолжности по возврату кредита, к общему числу заемщиков) по каждому уникальному значению в столбце children (в зависимости от количества детей)."
   ]
  },
  {
   "cell_type": "code",
   "execution_count": 26,
   "id": "b7ae2207",
   "metadata": {},
   "outputs": [
    {
     "name": "stdout",
     "output_type": "stream",
     "text": [
      "           debt       conversion\n",
      "          count   sum           \n",
      "children                        \n",
      "0         14091  1063   0.075438\n",
      "1          4808   444   0.092346\n",
      "2          2052   194   0.094542\n",
      "3           330    27   0.081818\n",
      "4            41     4   0.097561\n",
      "5             9     0   0.000000\n"
     ]
    }
   ],
   "source": [
    "data_group_children = data.groupby('children').agg({'debt': ['count','sum']})\n",
    "data_group_children['conversion'] = data_group_children['debt']['sum']/data_group_children['debt']['count']\n",
    "print(data_group_children)"
   ]
  },
  {
   "cell_type": "markdown",
   "id": "1583e2ca",
   "metadata": {
    "deletable": false,
    "id": "3a6b99ec"
   },
   "source": [
    "**Вывод:**Проведя анализ данных и рассчет доли лиц, у которых есть задолжности по возврату кредтов, по всем заемщикам в целом и по заемщикам в зависимости от количества у них детей, можно сделать следующие выводы:\n",
    "- доля лиц, у которых есть задолжности по возврату кредитов, по всем заемщикам отличается от доли лиц, у которых есть задолжность по возврату кредитов, в зависимости от количества у них детей\n",
    "- доли лиц, у которых есть задолжность по возврату кредитов, в зависимости от количества детей отличается между собой, но не значительно. Скорее можно говорить о разнице между долей заемщиков, у которых есть задолжность по возврату кредита,  у лиц с детьми и без детей. Из расчитанных конверсий видно, что доля задолжностей у лиц без детей ниже, чем у лиц с детьми (0,075 у лиц без детьей и 0.092 - 0.094 у лиц с детьми)\n",
    "- данных по заемщикам для лиц с количеством детей 3, 4, 5, на мой взгляд, не достаточно для проведения корректных оценок, поэтому расчитанные данные могут не отражать реальную картину.\n",
    "\n",
    "Таким образом зависимость между количеством детей и возвратом кредита в срок есть, но она незначительная, скорее можно говорить о зависимости между людьми с детьми и без детей. Лица без детей возвращаю креди в срок чаще."
   ]
  },
  {
   "cell_type": "markdown",
   "id": "e92c7494",
   "metadata": {
    "deletable": false,
    "editable": false,
    "id": "97be82ca"
   },
   "source": [
    "#### 3.2 Есть ли зависимость между семейным положением и возвратом кредита в срок?"
   ]
  },
  {
   "cell_type": "markdown",
   "id": "25988c4b",
   "metadata": {
    "deletable": false,
    "id": "dc3f7ee8"
   },
   "source": [
    "1. Определяем, какие уникальные занчения есть в столбце family_status, как часто они встречаются."
   ]
  },
  {
   "cell_type": "code",
   "execution_count": 27,
   "id": "8f5d45d3",
   "metadata": {
    "scrolled": true
   },
   "outputs": [
    {
     "name": "stdout",
     "output_type": "stream",
     "text": [
      "женат / замужем          12261\n",
      "гражданский брак          4134\n",
      "Не женат / не замужем     2796\n",
      "в разводе                 1189\n",
      "вдовец / вдова             951\n",
      "Name: family_status, dtype: int64\n"
     ]
    }
   ],
   "source": [
    "print(data['family_status'].value_counts())"
   ]
  },
  {
   "cell_type": "markdown",
   "id": "c127d1d5",
   "metadata": {},
   "source": [
    "2.Группируем датафрейм по столбцу family_status и считаем уникальные занчения в столбце debt, чтобы посмотреть количество возвратов в срок и наличия задолжностей по каждому варианту в столбце family_status"
   ]
  },
  {
   "cell_type": "code",
   "execution_count": 28,
   "id": "644e068a",
   "metadata": {},
   "outputs": [
    {
     "name": "stdout",
     "output_type": "stream",
     "text": [
      "family_status          debt\n",
      "Не женат / не замужем  0        2523\n",
      "                       1         273\n",
      "в разводе              0        1105\n",
      "                       1          84\n",
      "вдовец / вдова         0         888\n",
      "                       1          63\n",
      "гражданский брак       0        3749\n",
      "                       1         385\n",
      "женат / замужем        0       11334\n",
      "                       1         927\n",
      "Name: debt, dtype: int64\n"
     ]
    }
   ],
   "source": [
    "print(data.groupby('family_status')['debt'].value_counts())"
   ]
  },
  {
   "cell_type": "markdown",
   "id": "3a894d96",
   "metadata": {},
   "source": [
    "3. Считаем конверсию (отношение количества лиц, у которых есть задолжности по возврату кредита, к общему числу заемщиков) по каждому уникальному значению в столбце family_status."
   ]
  },
  {
   "cell_type": "code",
   "execution_count": 29,
   "id": "27639ec0",
   "metadata": {},
   "outputs": [
    {
     "name": "stdout",
     "output_type": "stream",
     "text": [
      "                        debt      conversion\n",
      "                       count  sum           \n",
      "family_status                               \n",
      "Не женат / не замужем   2796  273   0.097639\n",
      "в разводе               1189   84   0.070648\n",
      "вдовец / вдова           951   63   0.066246\n",
      "гражданский брак        4134  385   0.093130\n",
      "женат / замужем        12261  927   0.075606\n"
     ]
    }
   ],
   "source": [
    "data_group_family_status = data.groupby('family_status').agg({'debt': ['count','sum']})\n",
    "data_group_family_status['conversion'] = data_group_family_status['debt']['sum']/data_group_family_status['debt']['count']\n",
    "print(data_group_family_status)"
   ]
  },
  {
   "cell_type": "markdown",
   "id": "9e754d8b",
   "metadata": {},
   "source": [
    "4. Для наглядности постороим график. Для этого удаляем индексацию в таблице data_group_family_status методом reset_index() с сохранением столбца с предыдущей индексацией. Подключаем библиотеку seaborn и строим столбчатую диаграмму."
   ]
  },
  {
   "cell_type": "code",
   "execution_count": 30,
   "id": "434c0da6",
   "metadata": {},
   "outputs": [],
   "source": [
    "df = data_group_family_status.reset_index()\n"
   ]
  },
  {
   "cell_type": "code",
   "execution_count": 31,
   "id": "28f001bc",
   "metadata": {},
   "outputs": [
    {
     "data": {
      "text/plain": [
       "<AxesSubplot:xlabel='conversion', ylabel='family_status'>"
      ]
     },
     "execution_count": 31,
     "metadata": {},
     "output_type": "execute_result"
    },
    {
     "data": {
      "image/png": "[encoded data removed]",
      "text/plain": [
       "<Figure size 640x480 with 1 Axes>"
      ]
     },
     "metadata": {},
     "output_type": "display_data"
    }
   ],
   "source": [
    "import seaborn\n",
    "\n",
    "seaborn.barplot(y=df['family_status'], x=df['conversion'])"
   ]
  },
  {
   "cell_type": "markdown",
   "id": "c20be774",
   "metadata": {
    "deletable": false,
    "id": "1cef7837"
   },
   "source": [
    "**Вывод:** Проведя расчеты конверсии по различным группам 'семейного положения' видно, что зависисмость между семейным положением и возвратом кредита в срок есть. Задолжности по возврату кредитов чаще возникают у не женатых/ не замужних лиц и лиц, состоящих в гражданском браке. Лица, состоящие в браке, в разводе, вдовы/вдовцы возвращают кредиты в срок чаще."
   ]
  },
  {
   "cell_type": "markdown",
   "id": "0324fc6c",
   "metadata": {
    "deletable": false,
    "editable": false,
    "id": "1e8b2fca"
   },
   "source": [
    "#### 3.3 Есть ли зависимость между уровнем дохода и возвратом кредита в срок?"
   ]
  },
  {
   "cell_type": "markdown",
   "id": "932b0315",
   "metadata": {
    "deletable": false,
    "id": "cd7e3720"
   },
   "source": [
    "1. Определяем, какие уникальные занчения есть в столбце total_income_category, как часто они встречаются."
   ]
  },
  {
   "cell_type": "code",
   "execution_count": 32,
   "id": "66a4c670",
   "metadata": {},
   "outputs": [
    {
     "name": "stdout",
     "output_type": "stream",
     "text": [
      "C    15921\n",
      "B     5014\n",
      "D      349\n",
      "A       25\n",
      "E       22\n",
      "Name: total_income_category, dtype: int64\n"
     ]
    }
   ],
   "source": [
    "print(data['total_income_category'].value_counts())"
   ]
  },
  {
   "cell_type": "markdown",
   "id": "30fb7baa",
   "metadata": {},
   "source": [
    "2. Группируем датафрейм по столбцу total_income_category и считаем уникальные занчения в столбце debt, чтобы посмотреть количество возвратов в срок и наличия задолжностей по каждой категории уровня дохода"
   ]
  },
  {
   "cell_type": "code",
   "execution_count": 33,
   "id": "a08d4b46",
   "metadata": {},
   "outputs": [
    {
     "name": "stdout",
     "output_type": "stream",
     "text": [
      "total_income_category  debt\n",
      "A                      0          23\n",
      "                       1           2\n",
      "B                      0        4660\n",
      "                       1         354\n",
      "C                      0       14568\n",
      "                       1        1353\n",
      "D                      0         328\n",
      "                       1          21\n",
      "E                      0          20\n",
      "                       1           2\n",
      "Name: debt, dtype: int64\n"
     ]
    }
   ],
   "source": [
    "print(data.groupby('total_income_category')['debt'].value_counts())"
   ]
  },
  {
   "cell_type": "markdown",
   "id": "a26a1b33",
   "metadata": {},
   "source": [
    "3. Считаем конверсию (отношение количества лиц, у которых есть задолжности по возврату кредита, к общему числу заемщиков) по каждому уникальному значению в столбце total_income_category"
   ]
  },
  {
   "cell_type": "code",
   "execution_count": 34,
   "id": "c9a4372d",
   "metadata": {},
   "outputs": [
    {
     "name": "stdout",
     "output_type": "stream",
     "text": [
      "                        debt       conversion\n",
      "                       count   sum           \n",
      "total_income_category                        \n",
      "A                         25     2   0.080000\n",
      "B                       5014   354   0.070602\n",
      "C                      15921  1353   0.084982\n",
      "D                        349    21   0.060172\n",
      "E                         22     2   0.090909\n"
     ]
    }
   ],
   "source": [
    "data_group_income = data.groupby('total_income_category').agg({'debt': ['count','sum']})\n",
    "data_group_income['conversion'] = data_group_income['debt']['sum']/data_group_income['debt']['count']\n",
    "print(data_group_income)"
   ]
  },
  {
   "cell_type": "markdown",
   "id": "94bfdcde",
   "metadata": {
    "deletable": false,
    "id": "e8593def"
   },
   "source": [
    "**Вывод:** Считаю, что данных по заемщикам с категорией зарплат А (доход миллион и выше), Е (доход до 30000), D (доход от 30001 до 50000) по сравнению с другими категориями не достаточно для проведения корректных оценок, поэтому расчитанные данные могут не отражать реальную картину. Сравнивая категории В и С, мы видим, что кредиыт в срок чаще возврщают лица с доходом от 200001 до 1000000 руб, чем лица с доходом от 50001 до 200000. \n",
    "Стоит также отметить, что на результаты исследования могло повлиять большое количество пропусков (2174), которые были заменены медианными значениями."
   ]
  },
  {
   "cell_type": "markdown",
   "id": "ed04f8ef",
   "metadata": {
    "deletable": false,
    "editable": false,
    "id": "99ecbd1f"
   },
   "source": [
    "#### 3.4 Как разные цели кредита влияют на его возврат в срок?"
   ]
  },
  {
   "cell_type": "markdown",
   "id": "55951c1e",
   "metadata": {
    "deletable": false,
    "id": "2b687290"
   },
   "source": [
    "1. Определяем, какие уникальные занчения есть в столбце purpose_category, как часто они встречаются."
   ]
  },
  {
   "cell_type": "code",
   "execution_count": 35,
   "id": "a756596b",
   "metadata": {},
   "outputs": [
    {
     "name": "stdout",
     "output_type": "stream",
     "text": [
      "операции с недвижимостью    10751\n",
      "операции с автомобилем       4279\n",
      "получение образования        3988\n",
      "проведение свадьбы           2313\n",
      "Name: purpose_category, dtype: int64\n"
     ]
    }
   ],
   "source": [
    "print(data['purpose_category'].value_counts())"
   ]
  },
  {
   "cell_type": "markdown",
   "id": "7c3c3b7a",
   "metadata": {},
   "source": [
    "2. Группируем датафрейм по столбцу purpose_category и считаем уникальные занчения в столбце debt, чтобы посмотреть количество возвратов в срок и наличия задолжностей по каждой категории цели кредита"
   ]
  },
  {
   "cell_type": "code",
   "execution_count": 36,
   "id": "526bfa9f",
   "metadata": {},
   "outputs": [
    {
     "name": "stdout",
     "output_type": "stream",
     "text": [
      "purpose_category          debt\n",
      "операции с автомобилем    0       3879\n",
      "                          1        400\n",
      "операции с недвижимостью  0       9971\n",
      "                          1        780\n",
      "получение образования     0       3619\n",
      "                          1        369\n",
      "проведение свадьбы        0       2130\n",
      "                          1        183\n",
      "Name: debt, dtype: int64\n"
     ]
    }
   ],
   "source": [
    "print(data.groupby('purpose_category')['debt'].value_counts())"
   ]
  },
  {
   "cell_type": "markdown",
   "id": "54535c9c",
   "metadata": {},
   "source": [
    "3. Считаем конверсию (отношение количества лиц, у которых есть задолжности по возврату кредита, к общему числу заемщиков) по каждому уникальному значению в столбце purpose_category"
   ]
  },
  {
   "cell_type": "code",
   "execution_count": 37,
   "id": "d892bd7b",
   "metadata": {},
   "outputs": [
    {
     "name": "stdout",
     "output_type": "stream",
     "text": [
      "                           debt      conversion\n",
      "                          count  sum           \n",
      "purpose_category                               \n",
      "операции с автомобилем     4279  400   0.093480\n",
      "операции с недвижимостью  10751  780   0.072551\n",
      "получение образования      3988  369   0.092528\n",
      "проведение свадьбы         2313  183   0.079118\n"
     ]
    }
   ],
   "source": [
    "data_group_purpose = data.groupby('purpose_category').agg({'debt': ['count','sum']})\n",
    "data_group_purpose['conversion'] = data_group_purpose['debt']['sum']/data_group_purpose['debt']['count']\n",
    "print(data_group_purpose)"
   ]
  },
  {
   "cell_type": "markdown",
   "id": "19a00238",
   "metadata": {},
   "source": [
    "4. Для наглядности постороим график. Для этого удаляем индексацию в таблице data_group_purpose методом reset_index() с сохранением столбца с предыдущей индексацией. Строим столбчатую диаграмму."
   ]
  },
  {
   "cell_type": "code",
   "execution_count": 38,
   "id": "23f865af",
   "metadata": {},
   "outputs": [
    {
     "data": {
      "text/plain": [
       "<AxesSubplot:xlabel='conversion', ylabel='purpose_category'>"
      ]
     },
     "execution_count": 38,
     "metadata": {},
     "output_type": "execute_result"
    },
    {
     "data": {
      "image/png": "[encoded data removed]",
      "text/plain": [
       "<Figure size 640x480 with 1 Axes>"
      ]
     },
     "metadata": {},
     "output_type": "display_data"
    }
   ],
   "source": [
    "df2 = data_group_purpose.reset_index()\n",
    "\n",
    "seaborn.barplot (y=df2['purpose_category'], x=df2['conversion'])"
   ]
  },
  {
   "cell_type": "markdown",
   "id": "7b6d0186",
   "metadata": {
    "deletable": false,
    "id": "b4bb2ce6"
   },
   "source": [
    "**Вывод:** Зависимость между целью выдачи кредита и возвратом его в срок есть. Чаще возвращают кредитв в срок, если брали их на операции с недвижимостью и проведение свадьбы, реже возвращают кредиты в срок, если их брали на образование и операции с автомобилями."
   ]
  },
  {
   "cell_type": "markdown",
   "id": "6e44a37e",
   "metadata": {
    "deletable": false,
    "editable": false,
    "id": "09c3ac4c"
   },
   "source": [
    "#### 3.5 Приведите возможные причины появления пропусков в исходных данных."
   ]
  },
  {
   "cell_type": "markdown",
   "id": "c1dbb786",
   "metadata": {
    "deletable": false,
    "id": "9da2ceda"
   },
   "source": [
    "*Ответ:* Например, пропуски в столбце days-employed могли возникнуть у людей, ранее не работавших, и они пропустили колонку (если нет задачи ее заполнить в обязательбном порядке).Также у ряда лиц молгли возникнуть затруднения с подсчетом стажа. Пропуски в зарабтной платье могли возникнуть по причине, что человек не захотел указывать свой доход, особенно люди с высоким доходом стараются это не говорить."
   ]
  },
  {
   "cell_type": "markdown",
   "id": "a4eb8db8",
   "metadata": {},
   "source": [
    "Пропуски в столбцах days-employed и total_income встречаются в одних и тех же строках. При этом пропуски встречаются для следующих значениях в столбце income_type: пенсионер, госслужащий, компаньон, сотрудник, предприниматель. Возможно для данных категорий у банка есть особые условия для предоставления кредитов, и данные указанные в этих столбцах могут не влиять на выдачу кредита, если данные категрии их не могут заполнить по каким-то причинам. Возможно в банке есть политика конфиденциальности в отношении ряда сотрудников и, например, их зарплата не может находиться в общем доступе (это для категории сотрудников). Возможно еще есть зависимость между этими столбцам. Если не заполнили один столбец, напрмер стаж, то второй столбец автоматически не заполняется. Или, если произошел какой-то технический сбой при внесений и хранении информации, и в одном столбце данные пропали, то они пропали и во втором столбце."
   ]
  },
  {
   "cell_type": "markdown",
   "id": "4f3480a5",
   "metadata": {
    "deletable": false,
    "editable": false,
    "id": "7b0487d6"
   },
   "source": [
    "#### 3.6 Объясните, почему заполнить пропуски медианным значением — лучшее решение для количественных переменных."
   ]
  },
  {
   "cell_type": "markdown",
   "id": "26f4bb1f",
   "metadata": {
    "deletable": false,
    "id": "7ecf2b8e"
   },
   "source": [
    "*Ответ:* Если в выборке есть выдающиеся значения, то лучше заполнять пропуски медианными значениями. Применение средних значений может дать более большую погрешность."
   ]
  },
  {
   "cell_type": "markdown",
   "id": "c98fddf6",
   "metadata": {
    "deletable": false,
    "editable": false,
    "id": "6db5255a"
   },
   "source": [
    "### Шаг 4: общий вывод."
   ]
  },
  {
   "cell_type": "markdown",
   "id": "71974c97",
   "metadata": {
    "deletable": false,
    "id": "bad65432"
   },
   "source": [
    "Напишите ваш общий вывод. Проанализировав полученные результаты, понимаем, что доля возвратов кредитов в срок в целом зависит от количества детей, категории дохода, целей, на которые берутся кредиты и семейного статуса, где-то эта зависимость более выражена, где-то менее. Также стоит отметить, что не по всем категориям заемщиков в данном датафрейме представлена достаточная выборка (например, при категории дохода А, Е, D), поэтому расчеты произвененные по ним могут не отражать действительность.  "
   ]
  },
  {
   "cell_type": "markdown",
   "id": "8900e8c1",
   "metadata": {},
   "source": [
    "**Общий вывод**\n",
    "Было провежено исследование, чтобы вяснить влияние различных факторов на возвращение кредита в срок. Входные данные от банка - статистика о платежеспособности клиентов. Результаты исследования будут учтены про построении модели кредитного скориинга - специальной системы, которая оценивает способность потенциального заемщика вернуть кредит в срок.\n",
    "Перед проведением исследования было решено проверить следующие:\n",
    "1. Есть ли зависимость между возвратом кредита в срок и количеством детей.\n",
    "2. Есть ли зависимость между семейны статусом и возвратом кредита в срок.\n",
    "3. Есть ли зависимость между доходом и возвратом кредита в срок.\n",
    "4. Если ли зависимость между целью кредита и возвратом кредита в срок.\n",
    "\n",
    "В результате удалось выяснить следующие зависимости.\n",
    "\n",
    "**1. Зависимость между возвратом кредита и количеством детей - подтверждена частично**, для получения более точных данных необходимо больше данных по клиентам с количеством детей 3,4,5.\n",
    "\n",
    " 7,5% - доля просроченных кредитов у заемщиков без детей\n",
    " 9,2% - доля просроченных кредитов у заемщиков с 1 ребенком\n",
    " 9,4% - доля просроченных кредитов у заемщиков с 2 детьми\n",
    " \n",
    "*Рекомендация* - провести дополнительное исследование на большей выборке.\n",
    "\n",
    "**2. Зависимость между семейным статусом и возвратом кредита в срок - подтвердилась**.\n",
    "\n",
    "- У лиц, не состояших в браке, и лиц, состоящие в гражданском браке, вероятность стать должноком выше. Доля невозврата кредита в срок в этих группах 9,76 % и 9,31% соответсвенно  \n",
    "- Лица состояшие в браке, разведенные и овдовевшие с меньшей вероятностью становятся должниками. Доля невозврата \n",
    "кредита в срок в этих группах 7,56%, 7,06% и 6,62% соответсвенно\n",
    "\n",
    "**3. Зависимость между доходом и возвратом кредита в срок. - подтверждена частично**, для более точных выводом необходимы дополнительные данные по категриям А (доход миллион и выше), Е (доход до 30000), D (доход от 30001 до 50000)\n",
    "7,1% - доля просроченных кредитов у заемщиков В (доход от 200002 до 1000000) \n",
    "8,5% - доля просроченных кредитов у заемщиков С (доход от 50001 до 200000)\n",
    "\n",
    "*Стоит также отметить, что на результаты исследования могло повлиять большое количество пропусков (2174), которые были заменены медианными значениями.* \n",
    "\n",
    "**4. Зависимость между целью кредита и возвратом кредита в срок - подтвердилась**\n",
    "9,3% - доля просроченных кредитов на операции с автомобилем     \n",
    "7,3% - доля просроченных кредитов на операции с недвижимостью  \n",
    "9,3% - доля просроченных кредитов на получение образования      \n",
    "7,9% - доля просроченных кредитов на проведение свадьбы   \n",
    "\n",
    "**Общие рекоменации:**\n",
    "1. Можно использовать зависимости, полученные в результате исследования пол категориям \"семейный статус\" и \"цель кредита\"\n",
    "2. необходимо собрать более полную выборку для проведения дополнительных исследований по категриям \"количество детьей\" и \"доход\"\n"
   ]
  }
 ],
 "metadata": {
  "ExecuteTimeLog": [
   {
    "duration": 109,
    "start_time": "2023-01-18T16:11:03.787Z"
   },
   {
    "duration": 43,
    "start_time": "2023-01-18T16:11:14.579Z"
   },
   {
    "duration": 575,
    "start_time": "2023-01-18T16:11:30.913Z"
   },
   {
    "duration": 33,
    "start_time": "2023-01-18T16:11:33.084Z"
   },
   {
    "duration": 16,
    "start_time": "2023-01-18T16:11:38.678Z"
   },
   {
    "duration": 12,
    "start_time": "2023-01-18T16:11:41.908Z"
   },
   {
    "duration": 48,
    "start_time": "2023-01-18T16:11:45.537Z"
   },
   {
    "duration": 3,
    "start_time": "2023-01-18T16:11:49.285Z"
   },
   {
    "duration": 8,
    "start_time": "2023-01-18T16:11:52.597Z"
   },
   {
    "duration": 5,
    "start_time": "2023-01-18T16:11:56.379Z"
   },
   {
    "duration": 17,
    "start_time": "2023-01-18T16:11:59.562Z"
   },
   {
    "duration": 5,
    "start_time": "2023-01-18T16:12:01.439Z"
   },
   {
    "duration": 37,
    "start_time": "2023-01-18T16:12:05.583Z"
   },
   {
    "duration": 10,
    "start_time": "2023-01-18T16:12:07.788Z"
   },
   {
    "duration": 4,
    "start_time": "2023-01-18T16:12:13.718Z"
   },
   {
    "duration": 22,
    "start_time": "2023-01-18T16:12:15.757Z"
   },
   {
    "duration": 19,
    "start_time": "2023-01-18T16:12:18.990Z"
   },
   {
    "duration": 28,
    "start_time": "2023-01-18T16:12:20.564Z"
   },
   {
    "duration": 3,
    "start_time": "2023-01-18T16:12:23.992Z"
   },
   {
    "duration": 11,
    "start_time": "2023-01-18T16:12:25.734Z"
   },
   {
    "duration": 8,
    "start_time": "2023-01-18T16:12:29.373Z"
   },
   {
    "duration": 10,
    "start_time": "2023-01-18T16:12:32.371Z"
   },
   {
    "duration": 9,
    "start_time": "2023-01-18T16:12:34.327Z"
   },
   {
    "duration": 31,
    "start_time": "2023-01-18T16:12:37.979Z"
   },
   {
    "duration": 5,
    "start_time": "2023-01-18T16:12:54.630Z"
   },
   {
    "duration": 7,
    "start_time": "2023-01-18T16:36:35.770Z"
   },
   {
    "duration": 25,
    "start_time": "2023-01-18T16:37:00.131Z"
   },
   {
    "duration": 7,
    "start_time": "2023-01-18T16:44:42.144Z"
   },
   {
    "duration": 8,
    "start_time": "2023-01-18T16:44:54.075Z"
   },
   {
    "duration": 1121,
    "start_time": "2023-01-18T16:47:30.303Z"
   },
   {
    "duration": 5,
    "start_time": "2023-01-18T16:47:43.983Z"
   },
   {
    "duration": 13,
    "start_time": "2023-01-18T17:02:16.281Z"
   },
   {
    "duration": 13,
    "start_time": "2023-01-18T17:13:22.842Z"
   },
   {
    "duration": 1144,
    "start_time": "2023-01-18T17:29:21.585Z"
   },
   {
    "duration": 18,
    "start_time": "2023-01-18T17:29:39.378Z"
   },
   {
    "duration": 27,
    "start_time": "2023-01-18T17:31:17.173Z"
   },
   {
    "duration": 15,
    "start_time": "2023-01-18T17:35:03.770Z"
   },
   {
    "duration": 5,
    "start_time": "2023-01-18T17:36:42.108Z"
   },
   {
    "duration": 5,
    "start_time": "2023-01-18T17:37:23.943Z"
   },
   {
    "duration": 6,
    "start_time": "2023-01-18T17:41:53.115Z"
   },
   {
    "duration": 8,
    "start_time": "2023-01-18T18:10:09.383Z"
   },
   {
    "duration": 6,
    "start_time": "2023-01-18T18:10:27.326Z"
   },
   {
    "duration": 5,
    "start_time": "2023-01-18T18:11:07.711Z"
   },
   {
    "duration": 6,
    "start_time": "2023-01-18T18:11:18.920Z"
   },
   {
    "duration": 5,
    "start_time": "2023-01-18T18:11:44.010Z"
   },
   {
    "duration": 6,
    "start_time": "2023-01-18T18:12:26.351Z"
   },
   {
    "duration": 86,
    "start_time": "2023-01-18T18:47:05.232Z"
   },
   {
    "duration": 2061,
    "start_time": "2023-01-18T18:50:33.334Z"
   },
   {
    "duration": 1098,
    "start_time": "2023-01-18T18:51:22.790Z"
   },
   {
    "duration": 1167,
    "start_time": "2023-01-18T18:56:59.089Z"
   },
   {
    "duration": 1102,
    "start_time": "2023-01-18T18:59:10.338Z"
   },
   {
    "duration": 1236,
    "start_time": "2023-01-18T19:01:00.496Z"
   },
   {
    "duration": 5,
    "start_time": "2023-01-18T19:08:14.367Z"
   },
   {
    "duration": 6,
    "start_time": "2023-01-18T19:12:17.516Z"
   },
   {
    "duration": 6,
    "start_time": "2023-01-18T19:12:35.398Z"
   },
   {
    "duration": 5,
    "start_time": "2023-01-18T19:42:58.451Z"
   },
   {
    "duration": 48,
    "start_time": "2023-01-20T06:45:22.873Z"
   },
   {
    "duration": 7,
    "start_time": "2023-01-20T06:45:36.969Z"
   },
   {
    "duration": 1212,
    "start_time": "2023-01-20T06:45:48.918Z"
   },
   {
    "duration": 37,
    "start_time": "2023-01-20T06:45:51.685Z"
   },
   {
    "duration": 17,
    "start_time": "2023-01-20T06:45:57.289Z"
   },
   {
    "duration": 14,
    "start_time": "2023-01-20T06:46:00.686Z"
   },
   {
    "duration": 39,
    "start_time": "2023-01-20T06:46:03.987Z"
   },
   {
    "duration": 4,
    "start_time": "2023-01-20T06:46:07.334Z"
   },
   {
    "duration": 15,
    "start_time": "2023-01-20T06:46:09.251Z"
   },
   {
    "duration": 7,
    "start_time": "2023-01-20T06:46:17.370Z"
   },
   {
    "duration": 5,
    "start_time": "2023-01-20T06:46:22.168Z"
   },
   {
    "duration": 37,
    "start_time": "2023-01-20T06:46:23.901Z"
   },
   {
    "duration": 17,
    "start_time": "2023-01-20T06:46:28.112Z"
   },
   {
    "duration": 4,
    "start_time": "2023-01-20T06:46:32.900Z"
   },
   {
    "duration": 12,
    "start_time": "2023-01-20T06:46:36.134Z"
   },
   {
    "duration": 21,
    "start_time": "2023-01-20T06:46:37.722Z"
   },
   {
    "duration": 30,
    "start_time": "2023-01-20T06:46:39.339Z"
   },
   {
    "duration": 4,
    "start_time": "2023-01-20T06:46:42.969Z"
   },
   {
    "duration": 15,
    "start_time": "2023-01-20T06:46:46.516Z"
   },
   {
    "duration": 7,
    "start_time": "2023-01-20T06:46:48.172Z"
   },
   {
    "duration": 4,
    "start_time": "2023-01-20T06:46:52.818Z"
   },
   {
    "duration": 10,
    "start_time": "2023-01-20T06:46:54.719Z"
   },
   {
    "duration": 6,
    "start_time": "2023-01-20T06:46:58.770Z"
   },
   {
    "duration": 95,
    "start_time": "2023-01-20T06:47:18.881Z"
   },
   {
    "duration": 16,
    "start_time": "2023-01-20T06:47:21.072Z"
   },
   {
    "duration": 16,
    "start_time": "2023-01-20T06:47:26.636Z"
   },
   {
    "duration": 14,
    "start_time": "2023-01-20T06:47:29.998Z"
   },
   {
    "duration": 35,
    "start_time": "2023-01-20T06:47:33.569Z"
   },
   {
    "duration": 5,
    "start_time": "2023-01-20T06:47:38.601Z"
   },
   {
    "duration": 10,
    "start_time": "2023-01-20T06:47:41.127Z"
   },
   {
    "duration": 5,
    "start_time": "2023-01-20T06:47:45.600Z"
   },
   {
    "duration": 12,
    "start_time": "2023-01-20T06:47:49.443Z"
   },
   {
    "duration": 6,
    "start_time": "2023-01-20T06:47:51.898Z"
   },
   {
    "duration": 59,
    "start_time": "2023-01-20T06:47:56.314Z"
   },
   {
    "duration": 17,
    "start_time": "2023-01-20T06:47:57.972Z"
   },
   {
    "duration": 4,
    "start_time": "2023-01-20T06:48:01.737Z"
   },
   {
    "duration": 15,
    "start_time": "2023-01-20T06:48:03.487Z"
   },
   {
    "duration": 35,
    "start_time": "2023-01-20T06:48:05.033Z"
   },
   {
    "duration": 26,
    "start_time": "2023-01-20T06:48:08.443Z"
   },
   {
    "duration": 4,
    "start_time": "2023-01-20T06:48:12.077Z"
   },
   {
    "duration": 13,
    "start_time": "2023-01-20T06:48:14.287Z"
   },
   {
    "duration": 6,
    "start_time": "2023-01-20T06:48:17.538Z"
   },
   {
    "duration": 4,
    "start_time": "2023-01-20T06:48:22.184Z"
   },
   {
    "duration": 15,
    "start_time": "2023-01-20T06:48:24.190Z"
   },
   {
    "duration": 5,
    "start_time": "2023-01-20T06:48:28.171Z"
   },
   {
    "duration": 5,
    "start_time": "2023-01-20T06:48:31.122Z"
   },
   {
    "duration": 8,
    "start_time": "2023-01-20T06:48:35.381Z"
   },
   {
    "duration": 12,
    "start_time": "2023-01-20T06:48:40.913Z"
   },
   {
    "duration": 7,
    "start_time": "2023-01-20T06:48:44.569Z"
   },
   {
    "duration": 1121,
    "start_time": "2023-01-20T06:48:50.480Z"
   },
   {
    "duration": 10,
    "start_time": "2023-01-20T06:49:01.475Z"
   },
   {
    "duration": 13,
    "start_time": "2023-01-20T06:52:46.389Z"
   },
   {
    "duration": 15,
    "start_time": "2023-01-20T06:55:13.585Z"
   },
   {
    "duration": 14,
    "start_time": "2023-01-20T06:57:21.141Z"
   },
   {
    "duration": 13,
    "start_time": "2023-01-20T06:58:43.707Z"
   },
   {
    "duration": 16,
    "start_time": "2023-01-20T06:59:34.168Z"
   },
   {
    "duration": 18,
    "start_time": "2023-01-20T07:02:36.876Z"
   },
   {
    "duration": 2808,
    "start_time": "2023-01-20T07:05:11.939Z"
   },
   {
    "duration": 9,
    "start_time": "2023-01-20T07:07:20.823Z"
   },
   {
    "duration": 174,
    "start_time": "2023-01-20T07:07:32.970Z"
   },
   {
    "duration": 83,
    "start_time": "2023-01-20T07:16:44.636Z"
   },
   {
    "duration": 77,
    "start_time": "2023-01-20T07:16:58.101Z"
   },
   {
    "duration": 21,
    "start_time": "2023-01-20T07:17:20.340Z"
   },
   {
    "duration": 48,
    "start_time": "2023-01-20T09:09:00.364Z"
   },
   {
    "duration": 6,
    "start_time": "2023-01-20T09:09:09.060Z"
   },
   {
    "duration": 6,
    "start_time": "2023-01-20T09:09:13.035Z"
   },
   {
    "duration": 520,
    "start_time": "2023-01-20T09:09:22.696Z"
   },
   {
    "duration": 21,
    "start_time": "2023-01-20T09:09:24.527Z"
   },
   {
    "duration": 6,
    "start_time": "2023-01-20T09:09:32.634Z"
   },
   {
    "duration": 1210,
    "start_time": "2023-01-20T09:10:48.824Z"
   },
   {
    "duration": 0,
    "start_time": "2023-01-20T09:10:52.011Z"
   },
   {
    "duration": 1162,
    "start_time": "2023-01-20T09:10:52.209Z"
   },
   {
    "duration": 3,
    "start_time": "2023-01-20T09:11:28.374Z"
   },
   {
    "duration": 12,
    "start_time": "2023-01-20T09:11:31.494Z"
   },
   {
    "duration": 6,
    "start_time": "2023-01-20T09:11:46.157Z"
   },
   {
    "duration": 8,
    "start_time": "2023-01-20T09:12:45.511Z"
   },
   {
    "duration": 7,
    "start_time": "2023-01-20T09:13:54.068Z"
   },
   {
    "duration": 7,
    "start_time": "2023-01-20T09:14:07.919Z"
   },
   {
    "duration": 13,
    "start_time": "2023-01-20T09:17:36.968Z"
   },
   {
    "duration": 1150,
    "start_time": "2023-01-20T09:21:41.660Z"
   },
   {
    "duration": 6,
    "start_time": "2023-01-20T09:21:57.058Z"
   },
   {
    "duration": 4,
    "start_time": "2023-01-20T09:22:01.788Z"
   },
   {
    "duration": 9,
    "start_time": "2023-01-20T09:22:03.712Z"
   },
   {
    "duration": 6,
    "start_time": "2023-01-20T09:22:11.370Z"
   },
   {
    "duration": 8,
    "start_time": "2023-01-20T09:22:38.260Z"
   },
   {
    "duration": 8,
    "start_time": "2023-01-20T09:22:57.829Z"
   },
   {
    "duration": 13,
    "start_time": "2023-01-20T09:26:01.833Z"
   },
   {
    "duration": 50,
    "start_time": "2023-01-20T12:19:22.853Z"
   },
   {
    "duration": 6,
    "start_time": "2023-01-20T12:19:28.917Z"
   },
   {
    "duration": 5,
    "start_time": "2023-01-20T12:19:39.474Z"
   },
   {
    "duration": 7,
    "start_time": "2023-01-20T12:19:47.994Z"
   },
   {
    "duration": 514,
    "start_time": "2023-01-20T12:19:55.702Z"
   },
   {
    "duration": 23,
    "start_time": "2023-01-20T12:19:57.897Z"
   },
   {
    "duration": 14,
    "start_time": "2023-01-20T12:20:03.126Z"
   },
   {
    "duration": 9,
    "start_time": "2023-01-20T12:20:07.686Z"
   },
   {
    "duration": 36,
    "start_time": "2023-01-20T12:20:10.708Z"
   },
   {
    "duration": 4,
    "start_time": "2023-01-20T12:20:16.193Z"
   },
   {
    "duration": 8,
    "start_time": "2023-01-20T12:20:17.921Z"
   },
   {
    "duration": 4,
    "start_time": "2023-01-20T12:20:21.258Z"
   },
   {
    "duration": 8,
    "start_time": "2023-01-20T12:20:26.809Z"
   },
   {
    "duration": 5,
    "start_time": "2023-01-20T12:20:29.114Z"
   },
   {
    "duration": 44,
    "start_time": "2023-01-20T12:20:33.992Z"
   },
   {
    "duration": 13,
    "start_time": "2023-01-20T12:20:36.299Z"
   },
   {
    "duration": 4,
    "start_time": "2023-01-20T12:20:40.519Z"
   },
   {
    "duration": 21,
    "start_time": "2023-01-20T12:20:42.576Z"
   },
   {
    "duration": 18,
    "start_time": "2023-01-20T12:20:46.550Z"
   },
   {
    "duration": 17,
    "start_time": "2023-01-20T12:20:48.967Z"
   },
   {
    "duration": 18,
    "start_time": "2023-01-20T12:20:50.308Z"
   },
   {
    "duration": 4,
    "start_time": "2023-01-20T12:20:53.129Z"
   },
   {
    "duration": 10,
    "start_time": "2023-01-20T12:20:56.527Z"
   },
   {
    "duration": 5,
    "start_time": "2023-01-20T12:20:58.104Z"
   },
   {
    "duration": 4,
    "start_time": "2023-01-20T12:21:03.863Z"
   },
   {
    "duration": 8,
    "start_time": "2023-01-20T12:21:05.789Z"
   },
   {
    "duration": 5,
    "start_time": "2023-01-20T12:21:08.028Z"
   },
   {
    "duration": 5,
    "start_time": "2023-01-20T12:21:12.414Z"
   },
   {
    "duration": 11,
    "start_time": "2023-01-20T12:21:16.379Z"
   },
   {
    "duration": 18,
    "start_time": "2023-01-20T12:21:20.365Z"
   },
   {
    "duration": 5,
    "start_time": "2023-01-20T12:21:26.061Z"
   },
   {
    "duration": 6,
    "start_time": "2023-01-20T12:21:33.269Z"
   },
   {
    "duration": 8,
    "start_time": "2023-01-20T12:21:35.330Z"
   },
   {
    "duration": 14,
    "start_time": "2023-01-20T12:21:39.634Z"
   },
   {
    "duration": 45,
    "start_time": "2023-01-20T12:21:44.061Z"
   },
   {
    "duration": 3,
    "start_time": "2023-01-20T12:22:36.745Z"
   },
   {
    "duration": 3,
    "start_time": "2023-01-20T12:22:40.624Z"
   },
   {
    "duration": 5,
    "start_time": "2023-01-20T12:23:02.044Z"
   },
   {
    "duration": 1008,
    "start_time": "2023-01-20T12:27:57.821Z"
   },
   {
    "duration": 10,
    "start_time": "2023-01-20T12:28:09.571Z"
   },
   {
    "duration": 8,
    "start_time": "2023-01-20T12:28:19.272Z"
   },
   {
    "duration": 1176,
    "start_time": "2023-01-20T12:28:31.933Z"
   },
   {
    "duration": 66,
    "start_time": "2023-01-20T12:34:44.637Z"
   },
   {
    "duration": 14,
    "start_time": "2023-01-20T12:35:42.480Z"
   },
   {
    "duration": 7,
    "start_time": "2023-01-20T12:36:02.385Z"
   },
   {
    "duration": 12,
    "start_time": "2023-01-20T12:37:45.057Z"
   },
   {
    "duration": 1120,
    "start_time": "2023-01-20T12:38:20.327Z"
   },
   {
    "duration": 9,
    "start_time": "2023-01-20T12:38:35.062Z"
   },
   {
    "duration": 8,
    "start_time": "2023-01-20T12:38:38.105Z"
   },
   {
    "duration": 1147,
    "start_time": "2023-01-20T12:42:30.713Z"
   },
   {
    "duration": 1180,
    "start_time": "2023-01-20T12:43:12.222Z"
   },
   {
    "duration": 80,
    "start_time": "2023-01-20T12:50:45.800Z"
   },
   {
    "duration": 15,
    "start_time": "2023-01-20T12:50:47.394Z"
   },
   {
    "duration": 18,
    "start_time": "2023-01-20T12:50:55.034Z"
   },
   {
    "duration": 11,
    "start_time": "2023-01-20T12:50:58.493Z"
   },
   {
    "duration": 31,
    "start_time": "2023-01-20T12:51:03.632Z"
   },
   {
    "duration": 30,
    "start_time": "2023-01-20T12:51:06.054Z"
   },
   {
    "duration": 4,
    "start_time": "2023-01-20T12:51:11.492Z"
   },
   {
    "duration": 8,
    "start_time": "2023-01-20T12:51:13.146Z"
   },
   {
    "duration": 4,
    "start_time": "2023-01-20T12:51:19.451Z"
   },
   {
    "duration": 4,
    "start_time": "2023-01-20T12:51:40.228Z"
   },
   {
    "duration": 8,
    "start_time": "2023-01-20T12:51:41.898Z"
   },
   {
    "duration": 6,
    "start_time": "2023-01-20T12:51:45.224Z"
   },
   {
    "duration": 30,
    "start_time": "2023-01-20T12:51:49.537Z"
   },
   {
    "duration": 9,
    "start_time": "2023-01-20T12:51:52.017Z"
   },
   {
    "duration": 4,
    "start_time": "2023-01-20T12:51:59.135Z"
   },
   {
    "duration": 11,
    "start_time": "2023-01-20T12:52:00.862Z"
   },
   {
    "duration": 20,
    "start_time": "2023-01-20T12:52:02.382Z"
   },
   {
    "duration": 21,
    "start_time": "2023-01-20T12:52:03.991Z"
   },
   {
    "duration": 3,
    "start_time": "2023-01-20T12:52:11.173Z"
   },
   {
    "duration": 10,
    "start_time": "2023-01-20T12:52:13.212Z"
   },
   {
    "duration": 5,
    "start_time": "2023-01-20T12:52:15.033Z"
   },
   {
    "duration": 4,
    "start_time": "2023-01-20T12:52:21.242Z"
   },
   {
    "duration": 10,
    "start_time": "2023-01-20T12:52:24.083Z"
   },
   {
    "duration": 5,
    "start_time": "2023-01-20T12:52:28.773Z"
   },
   {
    "duration": 13,
    "start_time": "2023-01-20T12:52:31.685Z"
   },
   {
    "duration": 7,
    "start_time": "2023-01-20T12:52:34.496Z"
   },
   {
    "duration": 6,
    "start_time": "2023-01-20T12:52:41.722Z"
   },
   {
    "duration": 12,
    "start_time": "2023-01-20T12:52:46.024Z"
   },
   {
    "duration": 5,
    "start_time": "2023-01-20T12:52:55.930Z"
   },
   {
    "duration": 6,
    "start_time": "2023-01-20T12:53:00.723Z"
   },
   {
    "duration": 9,
    "start_time": "2023-01-20T12:53:02.564Z"
   },
   {
    "duration": 12,
    "start_time": "2023-01-20T12:53:05.685Z"
   },
   {
    "duration": 7,
    "start_time": "2023-01-20T13:06:09.646Z"
   },
   {
    "duration": 1146,
    "start_time": "2023-01-20T13:07:32.995Z"
   },
   {
    "duration": 140,
    "start_time": "2023-01-20T13:07:50.805Z"
   },
   {
    "duration": 142,
    "start_time": "2023-01-20T13:13:26.285Z"
   },
   {
    "duration": 124,
    "start_time": "2023-01-20T13:17:28.611Z"
   },
   {
    "duration": 6,
    "start_time": "2023-01-20T13:29:39.309Z"
   },
   {
    "duration": 22,
    "start_time": "2023-01-20T13:32:37.439Z"
   },
   {
    "duration": 120,
    "start_time": "2023-01-20T13:33:09.383Z"
   },
   {
    "duration": 8,
    "start_time": "2023-01-20T13:37:31.992Z"
   },
   {
    "duration": 1147,
    "start_time": "2023-01-20T13:38:11.290Z"
   },
   {
    "duration": 146,
    "start_time": "2023-01-20T13:39:10.409Z"
   },
   {
    "duration": 13,
    "start_time": "2023-01-20T13:42:07.138Z"
   },
   {
    "duration": 12,
    "start_time": "2023-01-20T13:42:17.411Z"
   },
   {
    "duration": 13,
    "start_time": "2023-01-20T13:42:36.136Z"
   },
   {
    "duration": 127,
    "start_time": "2023-01-20T13:43:09.288Z"
   },
   {
    "duration": 4,
    "start_time": "2023-01-20T13:44:32.572Z"
   },
   {
    "duration": 190,
    "start_time": "2023-01-20T13:44:35.516Z"
   },
   {
    "duration": 519,
    "start_time": "2023-01-20T18:13:34.411Z"
   },
   {
    "duration": 22,
    "start_time": "2023-01-20T18:13:37.144Z"
   },
   {
    "duration": 12,
    "start_time": "2023-01-20T18:13:44.592Z"
   },
   {
    "duration": 8,
    "start_time": "2023-01-20T18:13:54.002Z"
   },
   {
    "duration": 43,
    "start_time": "2023-01-20T18:14:00.976Z"
   },
   {
    "duration": 3,
    "start_time": "2023-01-20T18:14:11.964Z"
   },
   {
    "duration": 9,
    "start_time": "2023-01-20T18:14:13.975Z"
   },
   {
    "duration": 5,
    "start_time": "2023-01-20T18:14:40.969Z"
   },
   {
    "duration": 4,
    "start_time": "2023-01-20T18:14:47.304Z"
   },
   {
    "duration": 9,
    "start_time": "2023-01-20T18:14:58.337Z"
   },
   {
    "duration": 4,
    "start_time": "2023-01-20T18:15:00.026Z"
   },
   {
    "duration": 30,
    "start_time": "2023-01-20T18:15:03.703Z"
   },
   {
    "duration": 11,
    "start_time": "2023-01-20T18:15:10.229Z"
   },
   {
    "duration": 3,
    "start_time": "2023-01-20T18:15:14.926Z"
   },
   {
    "duration": 10,
    "start_time": "2023-01-20T18:15:19.168Z"
   },
   {
    "duration": 20,
    "start_time": "2023-01-20T18:15:21.046Z"
   },
   {
    "duration": 16,
    "start_time": "2023-01-20T18:15:22.746Z"
   },
   {
    "duration": 4,
    "start_time": "2023-01-20T18:15:27.150Z"
   },
   {
    "duration": 9,
    "start_time": "2023-01-20T18:15:32.118Z"
   },
   {
    "duration": 6,
    "start_time": "2023-01-20T18:15:35.850Z"
   },
   {
    "duration": 3,
    "start_time": "2023-01-20T18:15:40.093Z"
   },
   {
    "duration": 12,
    "start_time": "2023-01-20T18:15:42.552Z"
   },
   {
    "duration": 9,
    "start_time": "2023-01-20T19:01:41.472Z"
   },
   {
    "duration": 489,
    "start_time": "2023-01-21T06:50:34.794Z"
   },
   {
    "duration": 27,
    "start_time": "2023-01-21T06:50:35.286Z"
   },
   {
    "duration": 17,
    "start_time": "2023-01-21T06:50:35.315Z"
   },
   {
    "duration": 12,
    "start_time": "2023-01-21T06:50:35.334Z"
   },
   {
    "duration": 67,
    "start_time": "2023-01-21T06:50:35.348Z"
   },
   {
    "duration": 3,
    "start_time": "2023-01-21T06:50:35.418Z"
   },
   {
    "duration": 16,
    "start_time": "2023-01-21T06:50:35.423Z"
   },
   {
    "duration": 6,
    "start_time": "2023-01-21T06:50:35.441Z"
   },
   {
    "duration": 9,
    "start_time": "2023-01-21T06:50:35.449Z"
   },
   {
    "duration": 24,
    "start_time": "2023-01-21T06:50:35.463Z"
   },
   {
    "duration": 39,
    "start_time": "2023-01-21T06:50:35.489Z"
   },
   {
    "duration": 10,
    "start_time": "2023-01-21T06:50:35.530Z"
   },
   {
    "duration": 14,
    "start_time": "2023-01-21T06:50:35.542Z"
   },
   {
    "duration": 29,
    "start_time": "2023-01-21T06:50:35.558Z"
   },
   {
    "duration": 33,
    "start_time": "2023-01-21T06:50:35.589Z"
   },
   {
    "duration": 25,
    "start_time": "2023-01-21T06:50:35.624Z"
   },
   {
    "duration": 3,
    "start_time": "2023-01-21T06:50:35.651Z"
   },
   {
    "duration": 30,
    "start_time": "2023-01-21T06:50:35.656Z"
   },
   {
    "duration": 9,
    "start_time": "2023-01-21T06:50:35.688Z"
   },
   {
    "duration": 4,
    "start_time": "2023-01-21T06:50:35.699Z"
   },
   {
    "duration": 22,
    "start_time": "2023-01-21T06:50:35.705Z"
   },
   {
    "duration": 11,
    "start_time": "2023-01-21T06:50:35.729Z"
   },
   {
    "duration": 6,
    "start_time": "2023-01-21T06:50:35.741Z"
   },
   {
    "duration": 6,
    "start_time": "2023-01-21T06:50:35.748Z"
   },
   {
    "duration": 30,
    "start_time": "2023-01-21T06:50:35.755Z"
   },
   {
    "duration": 12,
    "start_time": "2023-01-21T06:50:35.787Z"
   },
   {
    "duration": 6,
    "start_time": "2023-01-21T06:50:35.801Z"
   },
   {
    "duration": 28,
    "start_time": "2023-01-21T06:50:35.810Z"
   },
   {
    "duration": 13,
    "start_time": "2023-01-21T06:50:35.839Z"
   },
   {
    "duration": 32,
    "start_time": "2023-01-21T06:50:35.853Z"
   },
   {
    "duration": 1156,
    "start_time": "2023-01-21T06:50:35.887Z"
   },
   {
    "duration": 8,
    "start_time": "2023-01-21T06:50:37.046Z"
   },
   {
    "duration": 20,
    "start_time": "2023-01-21T06:50:37.057Z"
   },
   {
    "duration": 17,
    "start_time": "2023-01-21T06:50:37.085Z"
   },
   {
    "duration": 9,
    "start_time": "2023-01-21T06:50:37.104Z"
   },
   {
    "duration": 12,
    "start_time": "2023-01-21T06:50:37.116Z"
   },
   {
    "duration": 15,
    "start_time": "2023-01-21T06:50:37.131Z"
   },
   {
    "duration": 159,
    "start_time": "2023-01-21T06:50:37.184Z"
   },
   {
    "duration": 58,
    "start_time": "2023-01-21T17:27:47.380Z"
   },
   {
    "duration": 54,
    "start_time": "2023-01-21T17:28:12.371Z"
   },
   {
    "duration": 536,
    "start_time": "2023-01-21T17:28:28.975Z"
   },
   {
    "duration": 22,
    "start_time": "2023-01-21T17:28:33.208Z"
   },
   {
    "duration": 17,
    "start_time": "2023-01-21T17:28:37.655Z"
   },
   {
    "duration": 11,
    "start_time": "2023-01-21T17:28:41.684Z"
   },
   {
    "duration": 44,
    "start_time": "2023-01-21T17:28:45.652Z"
   },
   {
    "duration": 4,
    "start_time": "2023-01-21T17:28:47.398Z"
   },
   {
    "duration": 8,
    "start_time": "2023-01-21T17:28:49.185Z"
   },
   {
    "duration": 4,
    "start_time": "2023-01-21T17:28:53.531Z"
   },
   {
    "duration": 6,
    "start_time": "2023-01-21T17:28:55.736Z"
   },
   {
    "duration": 4,
    "start_time": "2023-01-21T17:28:58.219Z"
   },
   {
    "duration": 35,
    "start_time": "2023-01-21T17:29:01.823Z"
   },
   {
    "duration": 11,
    "start_time": "2023-01-21T17:29:04.064Z"
   },
   {
    "duration": 5,
    "start_time": "2023-01-21T17:29:10.077Z"
   },
   {
    "duration": 18,
    "start_time": "2023-01-21T17:29:14.150Z"
   },
   {
    "duration": 27,
    "start_time": "2023-01-21T17:29:15.604Z"
   },
   {
    "duration": 18,
    "start_time": "2023-01-21T17:29:17.906Z"
   },
   {
    "duration": 3,
    "start_time": "2023-01-21T17:29:21.408Z"
   },
   {
    "duration": 10,
    "start_time": "2023-01-21T17:29:24.757Z"
   },
   {
    "duration": 11,
    "start_time": "2023-01-21T17:29:26.282Z"
   },
   {
    "duration": 4,
    "start_time": "2023-01-21T17:29:30.268Z"
   },
   {
    "duration": 13,
    "start_time": "2023-01-21T17:29:34.275Z"
   },
   {
    "duration": 6,
    "start_time": "2023-01-21T17:29:35.982Z"
   },
   {
    "duration": 5,
    "start_time": "2023-01-21T17:29:39.188Z"
   },
   {
    "duration": 5,
    "start_time": "2023-01-21T17:29:42.229Z"
   },
   {
    "duration": 7,
    "start_time": "2023-01-21T17:29:43.868Z"
   },
   {
    "duration": 11,
    "start_time": "2023-01-21T17:29:47.900Z"
   },
   {
    "duration": 9,
    "start_time": "2023-01-21T17:29:52.761Z"
   },
   {
    "duration": 652,
    "start_time": "2023-01-21T17:32:09.836Z"
   },
   {
    "duration": 9,
    "start_time": "2023-01-21T18:45:55.717Z"
   },
   {
    "duration": 105,
    "start_time": "2023-01-21T18:46:34.435Z"
   },
   {
    "duration": 19,
    "start_time": "2023-01-21T18:46:36.585Z"
   },
   {
    "duration": 16,
    "start_time": "2023-01-21T18:46:40.832Z"
   },
   {
    "duration": 10,
    "start_time": "2023-01-21T18:46:44.251Z"
   },
   {
    "duration": 35,
    "start_time": "2023-01-21T18:46:48.328Z"
   },
   {
    "duration": 3,
    "start_time": "2023-01-21T18:46:51.369Z"
   },
   {
    "duration": 8,
    "start_time": "2023-01-21T18:46:53.025Z"
   },
   {
    "duration": 5,
    "start_time": "2023-01-21T18:46:56.154Z"
   },
   {
    "duration": 6,
    "start_time": "2023-01-21T18:46:59.176Z"
   },
   {
    "duration": 5,
    "start_time": "2023-01-21T18:47:00.961Z"
   },
   {
    "duration": 31,
    "start_time": "2023-01-21T18:47:04.126Z"
   },
   {
    "duration": 10,
    "start_time": "2023-01-21T18:47:05.773Z"
   },
   {
    "duration": 3,
    "start_time": "2023-01-21T18:47:08.801Z"
   },
   {
    "duration": 11,
    "start_time": "2023-01-21T18:47:11.712Z"
   },
   {
    "duration": 20,
    "start_time": "2023-01-21T18:47:14.701Z"
   },
   {
    "duration": 18,
    "start_time": "2023-01-21T18:47:16.060Z"
   },
   {
    "duration": 3,
    "start_time": "2023-01-21T18:47:19.015Z"
   },
   {
    "duration": 11,
    "start_time": "2023-01-21T18:47:21.189Z"
   },
   {
    "duration": 5,
    "start_time": "2023-01-21T18:47:25.222Z"
   },
   {
    "duration": 3,
    "start_time": "2023-01-21T18:47:28.588Z"
   },
   {
    "duration": 9,
    "start_time": "2023-01-21T18:47:30.758Z"
   },
   {
    "duration": 5,
    "start_time": "2023-01-21T18:47:36.908Z"
   },
   {
    "duration": 4,
    "start_time": "2023-01-21T18:47:39.631Z"
   },
   {
    "duration": 4,
    "start_time": "2023-01-21T18:47:41.561Z"
   },
   {
    "duration": 6,
    "start_time": "2023-01-21T18:47:44.635Z"
   },
   {
    "duration": 12,
    "start_time": "2023-01-21T18:47:47.839Z"
   },
   {
    "duration": 6,
    "start_time": "2023-01-21T18:47:55.629Z"
   },
   {
    "duration": 9,
    "start_time": "2023-01-21T18:47:57.157Z"
   },
   {
    "duration": 11,
    "start_time": "2023-01-21T18:48:00.290Z"
   },
   {
    "duration": 5,
    "start_time": "2023-01-21T18:48:03.470Z"
   },
   {
    "duration": 125,
    "start_time": "2023-01-21T18:48:04.713Z"
   },
   {
    "duration": 6,
    "start_time": "2023-01-21T18:48:09.296Z"
   },
   {
    "duration": 6,
    "start_time": "2023-01-21T18:48:10.886Z"
   },
   {
    "duration": 11,
    "start_time": "2023-01-21T18:48:14.069Z"
   },
   {
    "duration": 6,
    "start_time": "2023-01-21T18:48:18.467Z"
   },
   {
    "duration": 8,
    "start_time": "2023-01-21T18:48:20.338Z"
   },
   {
    "duration": 16,
    "start_time": "2023-01-21T18:48:24.676Z"
   },
   {
    "duration": 120,
    "start_time": "2023-01-21T18:48:26.301Z"
   },
   {
    "duration": 112,
    "start_time": "2023-01-21T18:48:34.803Z"
   },
   {
    "duration": 21,
    "start_time": "2023-01-21T19:18:59.027Z"
   },
   {
    "duration": 18,
    "start_time": "2023-01-21T19:19:23.689Z"
   },
   {
    "duration": 17,
    "start_time": "2023-01-21T19:19:43.386Z"
   },
   {
    "duration": 72,
    "start_time": "2023-01-21T19:19:57.941Z"
   },
   {
    "duration": 16,
    "start_time": "2023-01-21T19:19:59.758Z"
   },
   {
    "duration": 16,
    "start_time": "2023-01-21T19:20:41.897Z"
   },
   {
    "duration": 16,
    "start_time": "2023-01-21T19:21:15.920Z"
   },
   {
    "duration": 15,
    "start_time": "2023-01-21T19:23:27.155Z"
   },
   {
    "duration": 50,
    "start_time": "2023-01-21T19:26:19.948Z"
   },
   {
    "duration": 7,
    "start_time": "2023-01-21T19:26:37.832Z"
   },
   {
    "duration": 65,
    "start_time": "2023-01-21T19:27:06.197Z"
   },
   {
    "duration": 16,
    "start_time": "2023-01-21T19:27:08.160Z"
   },
   {
    "duration": 5,
    "start_time": "2023-01-21T19:27:13.977Z"
   },
   {
    "duration": 10,
    "start_time": "2023-01-21T19:27:40.785Z"
   },
   {
    "duration": 5,
    "start_time": "2023-01-21T19:28:37.903Z"
   },
   {
    "duration": 11,
    "start_time": "2023-01-21T19:29:48.545Z"
   },
   {
    "duration": 11,
    "start_time": "2023-01-21T19:31:23.041Z"
   },
   {
    "duration": 13,
    "start_time": "2023-01-21T19:32:32.898Z"
   },
   {
    "duration": 5,
    "start_time": "2023-01-21T19:34:27.138Z"
   },
   {
    "duration": 10,
    "start_time": "2023-01-21T19:37:00.103Z"
   },
   {
    "duration": 13,
    "start_time": "2023-01-21T19:37:46.079Z"
   },
   {
    "duration": 11,
    "start_time": "2023-01-21T19:38:48.523Z"
   },
   {
    "duration": 13,
    "start_time": "2023-01-21T19:40:31.869Z"
   },
   {
    "duration": 10,
    "start_time": "2023-01-21T19:41:07.580Z"
   },
   {
    "duration": 13,
    "start_time": "2023-01-21T19:42:30.507Z"
   },
   {
    "duration": 6,
    "start_time": "2023-01-21T19:43:43.510Z"
   },
   {
    "duration": 6,
    "start_time": "2023-01-21T19:44:07.835Z"
   },
   {
    "duration": 5,
    "start_time": "2023-01-21T19:45:03.731Z"
   },
   {
    "duration": 11,
    "start_time": "2023-01-21T19:56:22.257Z"
   },
   {
    "duration": 11,
    "start_time": "2023-01-21T19:56:31.765Z"
   },
   {
    "duration": 9,
    "start_time": "2023-01-21T19:56:54.813Z"
   },
   {
    "duration": 11,
    "start_time": "2023-01-21T20:00:16.475Z"
   },
   {
    "duration": 11,
    "start_time": "2023-01-21T20:02:35.103Z"
   },
   {
    "duration": 50,
    "start_time": "2023-01-21T20:36:18.560Z"
   },
   {
    "duration": 44,
    "start_time": "2023-01-21T20:36:59.692Z"
   },
   {
    "duration": 43,
    "start_time": "2023-01-21T20:37:03.130Z"
   },
   {
    "duration": 48,
    "start_time": "2023-01-21T20:37:10.334Z"
   },
   {
    "duration": 48,
    "start_time": "2023-01-21T20:37:49.178Z"
   },
   {
    "duration": 46,
    "start_time": "2023-01-21T20:37:51.660Z"
   }
  ],
  "colab": {
   "name": "dpp_template_part2.ipynb",
   "provenance": []
  },
  "kernelspec": {
   "display_name": "Python 3 (ipykernel)",
   "language": "python",
   "name": "python3"
  },
  "language_info": {
   "codemirror_mode": {
    "name": "ipython",
    "version": 3
   },
   "file_extension": ".py",
   "mimetype": "text/x-python",
   "name": "python",
   "nbconvert_exporter": "python",
   "pygments_lexer": "ipython3",
   "version": "3.9.13"
  },
  "toc": {
   "base_numbering": 1,
   "nav_menu": {},
   "number_sections": true,
   "sideBar": true,
   "skip_h1_title": true,
   "title_cell": "Table of Contents",
   "title_sidebar": "Contents",
   "toc_cell": false,
   "toc_position": {},
   "toc_section_display": true,
   "toc_window_display": true
  }
 },
 "nbformat": 4,
 "nbformat_minor": 5
}
